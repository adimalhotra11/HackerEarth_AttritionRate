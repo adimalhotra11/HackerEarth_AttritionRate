{
 "cells": [
  {
   "cell_type": "code",
   "execution_count": 1,
   "metadata": {},
   "outputs": [],
   "source": [
    "import pandas as pd\n",
    "import numpy as np\n",
    "import matplotlib.pyplot as plt\n",
    "import seaborn as sns"
   ]
  },
  {
   "cell_type": "code",
   "execution_count": 83,
   "metadata": {},
   "outputs": [],
   "source": [
    "df_train = pd.read_csv(r'C:\\Users\\Aditya\\Desktop\\Dataset\\train.csv')\n",
    "df_test = pd.read_csv(r'C:\\Users\\Aditya\\Desktop\\Dataset\\test.csv')"
   ]
  },
  {
   "cell_type": "code",
   "execution_count": 84,
   "metadata": {},
   "outputs": [
    {
     "data": {
      "text/plain": [
       "(7000, 24)"
      ]
     },
     "execution_count": 84,
     "metadata": {},
     "output_type": "execute_result"
    }
   ],
   "source": [
    "df_train.shape"
   ]
  },
  {
   "cell_type": "code",
   "execution_count": 85,
   "metadata": {},
   "outputs": [
    {
     "data": {
      "text/plain": [
       "(3000, 23)"
      ]
     },
     "execution_count": 85,
     "metadata": {},
     "output_type": "execute_result"
    }
   ],
   "source": [
    "df_test.shape"
   ]
  },
  {
   "cell_type": "code",
   "execution_count": 86,
   "metadata": {},
   "outputs": [
    {
     "data": {
      "text/html": [
       "<div>\n",
       "<style scoped>\n",
       "    .dataframe tbody tr th:only-of-type {\n",
       "        vertical-align: middle;\n",
       "    }\n",
       "\n",
       "    .dataframe tbody tr th {\n",
       "        vertical-align: top;\n",
       "    }\n",
       "\n",
       "    .dataframe thead th {\n",
       "        text-align: right;\n",
       "    }\n",
       "</style>\n",
       "<table border=\"1\" class=\"dataframe\">\n",
       "  <thead>\n",
       "    <tr style=\"text-align: right;\">\n",
       "      <th></th>\n",
       "      <th>Employee_ID</th>\n",
       "      <th>Gender</th>\n",
       "      <th>Age</th>\n",
       "      <th>Education_Level</th>\n",
       "      <th>Relationship_Status</th>\n",
       "      <th>Hometown</th>\n",
       "      <th>Unit</th>\n",
       "      <th>Decision_skill_possess</th>\n",
       "      <th>Time_of_service</th>\n",
       "      <th>Time_since_promotion</th>\n",
       "      <th>...</th>\n",
       "      <th>Compensation_and_Benefits</th>\n",
       "      <th>Work_Life_balance</th>\n",
       "      <th>VAR1</th>\n",
       "      <th>VAR2</th>\n",
       "      <th>VAR3</th>\n",
       "      <th>VAR4</th>\n",
       "      <th>VAR5</th>\n",
       "      <th>VAR6</th>\n",
       "      <th>VAR7</th>\n",
       "      <th>Attrition_rate</th>\n",
       "    </tr>\n",
       "  </thead>\n",
       "  <tbody>\n",
       "    <tr>\n",
       "      <th>0</th>\n",
       "      <td>EID_23371</td>\n",
       "      <td>F</td>\n",
       "      <td>42.0</td>\n",
       "      <td>4</td>\n",
       "      <td>Married</td>\n",
       "      <td>Franklin</td>\n",
       "      <td>IT</td>\n",
       "      <td>Conceptual</td>\n",
       "      <td>4.0</td>\n",
       "      <td>4</td>\n",
       "      <td>...</td>\n",
       "      <td>type2</td>\n",
       "      <td>3.0</td>\n",
       "      <td>4</td>\n",
       "      <td>0.7516</td>\n",
       "      <td>1.8688</td>\n",
       "      <td>2.0</td>\n",
       "      <td>4</td>\n",
       "      <td>5</td>\n",
       "      <td>3</td>\n",
       "      <td>0.1841</td>\n",
       "    </tr>\n",
       "    <tr>\n",
       "      <th>1</th>\n",
       "      <td>EID_18000</td>\n",
       "      <td>M</td>\n",
       "      <td>24.0</td>\n",
       "      <td>3</td>\n",
       "      <td>Single</td>\n",
       "      <td>Springfield</td>\n",
       "      <td>Logistics</td>\n",
       "      <td>Analytical</td>\n",
       "      <td>5.0</td>\n",
       "      <td>4</td>\n",
       "      <td>...</td>\n",
       "      <td>type2</td>\n",
       "      <td>4.0</td>\n",
       "      <td>3</td>\n",
       "      <td>-0.9612</td>\n",
       "      <td>-0.4537</td>\n",
       "      <td>2.0</td>\n",
       "      <td>3</td>\n",
       "      <td>5</td>\n",
       "      <td>3</td>\n",
       "      <td>0.0670</td>\n",
       "    </tr>\n",
       "    <tr>\n",
       "      <th>2</th>\n",
       "      <td>EID_3891</td>\n",
       "      <td>F</td>\n",
       "      <td>58.0</td>\n",
       "      <td>3</td>\n",
       "      <td>Married</td>\n",
       "      <td>Clinton</td>\n",
       "      <td>Quality</td>\n",
       "      <td>Conceptual</td>\n",
       "      <td>27.0</td>\n",
       "      <td>3</td>\n",
       "      <td>...</td>\n",
       "      <td>type2</td>\n",
       "      <td>1.0</td>\n",
       "      <td>4</td>\n",
       "      <td>-0.9612</td>\n",
       "      <td>-0.4537</td>\n",
       "      <td>3.0</td>\n",
       "      <td>3</td>\n",
       "      <td>8</td>\n",
       "      <td>3</td>\n",
       "      <td>0.0851</td>\n",
       "    </tr>\n",
       "    <tr>\n",
       "      <th>3</th>\n",
       "      <td>EID_17492</td>\n",
       "      <td>F</td>\n",
       "      <td>26.0</td>\n",
       "      <td>3</td>\n",
       "      <td>Single</td>\n",
       "      <td>Lebanon</td>\n",
       "      <td>Human Resource Management</td>\n",
       "      <td>Behavioral</td>\n",
       "      <td>4.0</td>\n",
       "      <td>3</td>\n",
       "      <td>...</td>\n",
       "      <td>type2</td>\n",
       "      <td>1.0</td>\n",
       "      <td>3</td>\n",
       "      <td>-1.8176</td>\n",
       "      <td>-0.4537</td>\n",
       "      <td>NaN</td>\n",
       "      <td>3</td>\n",
       "      <td>7</td>\n",
       "      <td>3</td>\n",
       "      <td>0.0668</td>\n",
       "    </tr>\n",
       "    <tr>\n",
       "      <th>4</th>\n",
       "      <td>EID_22534</td>\n",
       "      <td>F</td>\n",
       "      <td>31.0</td>\n",
       "      <td>1</td>\n",
       "      <td>Married</td>\n",
       "      <td>Springfield</td>\n",
       "      <td>Logistics</td>\n",
       "      <td>Conceptual</td>\n",
       "      <td>5.0</td>\n",
       "      <td>4</td>\n",
       "      <td>...</td>\n",
       "      <td>type3</td>\n",
       "      <td>3.0</td>\n",
       "      <td>1</td>\n",
       "      <td>0.7516</td>\n",
       "      <td>-0.4537</td>\n",
       "      <td>2.0</td>\n",
       "      <td>2</td>\n",
       "      <td>8</td>\n",
       "      <td>2</td>\n",
       "      <td>0.1827</td>\n",
       "    </tr>\n",
       "  </tbody>\n",
       "</table>\n",
       "<p>5 rows × 24 columns</p>\n",
       "</div>"
      ],
      "text/plain": [
       "  Employee_ID Gender   Age  Education_Level Relationship_Status     Hometown  \\\n",
       "0   EID_23371      F  42.0                4             Married     Franklin   \n",
       "1   EID_18000      M  24.0                3              Single  Springfield   \n",
       "2    EID_3891      F  58.0                3             Married      Clinton   \n",
       "3   EID_17492      F  26.0                3              Single      Lebanon   \n",
       "4   EID_22534      F  31.0                1             Married  Springfield   \n",
       "\n",
       "                        Unit Decision_skill_possess  Time_of_service  \\\n",
       "0                         IT             Conceptual              4.0   \n",
       "1                  Logistics             Analytical              5.0   \n",
       "2                    Quality             Conceptual             27.0   \n",
       "3  Human Resource Management             Behavioral              4.0   \n",
       "4                  Logistics             Conceptual              5.0   \n",
       "\n",
       "   Time_since_promotion  ...  Compensation_and_Benefits  Work_Life_balance  \\\n",
       "0                     4  ...                      type2                3.0   \n",
       "1                     4  ...                      type2                4.0   \n",
       "2                     3  ...                      type2                1.0   \n",
       "3                     3  ...                      type2                1.0   \n",
       "4                     4  ...                      type3                3.0   \n",
       "\n",
       "   VAR1    VAR2    VAR3  VAR4  VAR5  VAR6  VAR7  Attrition_rate  \n",
       "0     4  0.7516  1.8688   2.0     4     5     3          0.1841  \n",
       "1     3 -0.9612 -0.4537   2.0     3     5     3          0.0670  \n",
       "2     4 -0.9612 -0.4537   3.0     3     8     3          0.0851  \n",
       "3     3 -1.8176 -0.4537   NaN     3     7     3          0.0668  \n",
       "4     1  0.7516 -0.4537   2.0     2     8     2          0.1827  \n",
       "\n",
       "[5 rows x 24 columns]"
      ]
     },
     "execution_count": 86,
     "metadata": {},
     "output_type": "execute_result"
    }
   ],
   "source": [
    "df_train.head()"
   ]
  },
  {
   "cell_type": "code",
   "execution_count": 87,
   "metadata": {},
   "outputs": [
    {
     "data": {
      "text/plain": [
       "Index(['Employee_ID', 'Gender', 'Age', 'Education_Level',\n",
       "       'Relationship_Status', 'Hometown', 'Unit', 'Decision_skill_possess',\n",
       "       'Time_of_service', 'Time_since_promotion', 'growth_rate', 'Travel_Rate',\n",
       "       'Post_Level', 'Pay_Scale', 'Compensation_and_Benefits',\n",
       "       'Work_Life_balance', 'VAR1', 'VAR2', 'VAR3', 'VAR4', 'VAR5', 'VAR6',\n",
       "       'VAR7', 'Attrition_rate'],\n",
       "      dtype='object')"
      ]
     },
     "execution_count": 87,
     "metadata": {},
     "output_type": "execute_result"
    }
   ],
   "source": [
    "df_train.columns"
   ]
  },
  {
   "cell_type": "code",
   "execution_count": 88,
   "metadata": {},
   "outputs": [
    {
     "name": "stdout",
     "output_type": "stream",
     "text": [
      "<class 'pandas.core.frame.DataFrame'>\n",
      "RangeIndex: 7000 entries, 0 to 6999\n",
      "Data columns (total 24 columns):\n",
      " #   Column                     Non-Null Count  Dtype  \n",
      "---  ------                     --------------  -----  \n",
      " 0   Employee_ID                7000 non-null   object \n",
      " 1   Gender                     7000 non-null   object \n",
      " 2   Age                        6588 non-null   float64\n",
      " 3   Education_Level            7000 non-null   int64  \n",
      " 4   Relationship_Status        7000 non-null   object \n",
      " 5   Hometown                   7000 non-null   object \n",
      " 6   Unit                       7000 non-null   object \n",
      " 7   Decision_skill_possess     7000 non-null   object \n",
      " 8   Time_of_service            6856 non-null   float64\n",
      " 9   Time_since_promotion       7000 non-null   int64  \n",
      " 10  growth_rate                7000 non-null   int64  \n",
      " 11  Travel_Rate                7000 non-null   int64  \n",
      " 12  Post_Level                 7000 non-null   int64  \n",
      " 13  Pay_Scale                  6991 non-null   float64\n",
      " 14  Compensation_and_Benefits  7000 non-null   object \n",
      " 15  Work_Life_balance          6989 non-null   float64\n",
      " 16  VAR1                       7000 non-null   int64  \n",
      " 17  VAR2                       6423 non-null   float64\n",
      " 18  VAR3                       7000 non-null   float64\n",
      " 19  VAR4                       6344 non-null   float64\n",
      " 20  VAR5                       7000 non-null   int64  \n",
      " 21  VAR6                       7000 non-null   int64  \n",
      " 22  VAR7                       7000 non-null   int64  \n",
      " 23  Attrition_rate             7000 non-null   float64\n",
      "dtypes: float64(8), int64(9), object(7)\n",
      "memory usage: 1.3+ MB\n"
     ]
    }
   ],
   "source": [
    "df_train.info()"
   ]
  },
  {
   "cell_type": "code",
   "execution_count": 89,
   "metadata": {},
   "outputs": [
    {
     "name": "stdout",
     "output_type": "stream",
     "text": [
      "<class 'pandas.core.frame.DataFrame'>\n",
      "RangeIndex: 3000 entries, 0 to 2999\n",
      "Data columns (total 23 columns):\n",
      " #   Column                     Non-Null Count  Dtype  \n",
      "---  ------                     --------------  -----  \n",
      " 0   Employee_ID                3000 non-null   object \n",
      " 1   Gender                     3000 non-null   object \n",
      " 2   Age                        2839 non-null   float64\n",
      " 3   Education_Level            3000 non-null   int64  \n",
      " 4   Relationship_Status        3000 non-null   object \n",
      " 5   Hometown                   3000 non-null   object \n",
      " 6   Unit                       3000 non-null   object \n",
      " 7   Decision_skill_possess     3000 non-null   object \n",
      " 8   Time_of_service            2948 non-null   float64\n",
      " 9   Time_since_promotion       3000 non-null   int64  \n",
      " 10  growth_rate                3000 non-null   int64  \n",
      " 11  Travel_Rate                3000 non-null   int64  \n",
      " 12  Post_Level                 3000 non-null   int64  \n",
      " 13  Pay_Scale                  2997 non-null   float64\n",
      " 14  Compensation_and_Benefits  3000 non-null   object \n",
      " 15  Work_Life_balance          2995 non-null   float64\n",
      " 16  VAR1                       3000 non-null   int64  \n",
      " 17  VAR2                       2783 non-null   float64\n",
      " 18  VAR3                       3000 non-null   float64\n",
      " 19  VAR4                       2702 non-null   float64\n",
      " 20  VAR5                       3000 non-null   int64  \n",
      " 21  VAR6                       3000 non-null   int64  \n",
      " 22  VAR7                       3000 non-null   int64  \n",
      "dtypes: float64(7), int64(9), object(7)\n",
      "memory usage: 539.2+ KB\n"
     ]
    }
   ],
   "source": [
    "df_test.info()"
   ]
  },
  {
   "cell_type": "code",
   "execution_count": 90,
   "metadata": {},
   "outputs": [
    {
     "data": {
      "text/plain": [
       "Employee_ID                    0\n",
       "Gender                         0\n",
       "Age                          412\n",
       "Education_Level                0\n",
       "Relationship_Status            0\n",
       "Hometown                       0\n",
       "Unit                           0\n",
       "Decision_skill_possess         0\n",
       "Time_of_service              144\n",
       "Time_since_promotion           0\n",
       "growth_rate                    0\n",
       "Travel_Rate                    0\n",
       "Post_Level                     0\n",
       "Pay_Scale                      9\n",
       "Compensation_and_Benefits      0\n",
       "Work_Life_balance             11\n",
       "VAR1                           0\n",
       "VAR2                         577\n",
       "VAR3                           0\n",
       "VAR4                         656\n",
       "VAR5                           0\n",
       "VAR6                           0\n",
       "VAR7                           0\n",
       "Attrition_rate                 0\n",
       "dtype: int64"
      ]
     },
     "execution_count": 90,
     "metadata": {},
     "output_type": "execute_result"
    }
   ],
   "source": [
    "df_train.isnull().sum()"
   ]
  },
  {
   "cell_type": "code",
   "execution_count": 91,
   "metadata": {},
   "outputs": [
    {
     "data": {
      "text/plain": [
       "Employee_ID                    0\n",
       "Gender                         0\n",
       "Age                          161\n",
       "Education_Level                0\n",
       "Relationship_Status            0\n",
       "Hometown                       0\n",
       "Unit                           0\n",
       "Decision_skill_possess         0\n",
       "Time_of_service               52\n",
       "Time_since_promotion           0\n",
       "growth_rate                    0\n",
       "Travel_Rate                    0\n",
       "Post_Level                     0\n",
       "Pay_Scale                      3\n",
       "Compensation_and_Benefits      0\n",
       "Work_Life_balance              5\n",
       "VAR1                           0\n",
       "VAR2                         217\n",
       "VAR3                           0\n",
       "VAR4                         298\n",
       "VAR5                           0\n",
       "VAR6                           0\n",
       "VAR7                           0\n",
       "dtype: int64"
      ]
     },
     "execution_count": 91,
     "metadata": {},
     "output_type": "execute_result"
    }
   ],
   "source": [
    "df_test.isnull().sum()"
   ]
  },
  {
   "cell_type": "code",
   "execution_count": 92,
   "metadata": {},
   "outputs": [],
   "source": [
    "df = df_train.copy()"
   ]
  },
  {
   "cell_type": "code",
   "execution_count": 93,
   "metadata": {},
   "outputs": [],
   "source": [
    "df.drop('Employee_ID',axis=1,inplace=True)"
   ]
  },
  {
   "cell_type": "code",
   "execution_count": 94,
   "metadata": {},
   "outputs": [
    {
     "data": {
      "text/html": [
       "<div>\n",
       "<style scoped>\n",
       "    .dataframe tbody tr th:only-of-type {\n",
       "        vertical-align: middle;\n",
       "    }\n",
       "\n",
       "    .dataframe tbody tr th {\n",
       "        vertical-align: top;\n",
       "    }\n",
       "\n",
       "    .dataframe thead th {\n",
       "        text-align: right;\n",
       "    }\n",
       "</style>\n",
       "<table border=\"1\" class=\"dataframe\">\n",
       "  <thead>\n",
       "    <tr style=\"text-align: right;\">\n",
       "      <th></th>\n",
       "      <th>Gender</th>\n",
       "      <th>Age</th>\n",
       "      <th>Education_Level</th>\n",
       "      <th>Relationship_Status</th>\n",
       "      <th>Hometown</th>\n",
       "      <th>Unit</th>\n",
       "      <th>Decision_skill_possess</th>\n",
       "      <th>Time_of_service</th>\n",
       "      <th>Time_since_promotion</th>\n",
       "      <th>growth_rate</th>\n",
       "      <th>...</th>\n",
       "      <th>Compensation_and_Benefits</th>\n",
       "      <th>Work_Life_balance</th>\n",
       "      <th>VAR1</th>\n",
       "      <th>VAR2</th>\n",
       "      <th>VAR3</th>\n",
       "      <th>VAR4</th>\n",
       "      <th>VAR5</th>\n",
       "      <th>VAR6</th>\n",
       "      <th>VAR7</th>\n",
       "      <th>Attrition_rate</th>\n",
       "    </tr>\n",
       "  </thead>\n",
       "  <tbody>\n",
       "    <tr>\n",
       "      <th>0</th>\n",
       "      <td>F</td>\n",
       "      <td>42.0</td>\n",
       "      <td>4</td>\n",
       "      <td>Married</td>\n",
       "      <td>Franklin</td>\n",
       "      <td>IT</td>\n",
       "      <td>Conceptual</td>\n",
       "      <td>4.0</td>\n",
       "      <td>4</td>\n",
       "      <td>33</td>\n",
       "      <td>...</td>\n",
       "      <td>type2</td>\n",
       "      <td>3.0</td>\n",
       "      <td>4</td>\n",
       "      <td>0.7516</td>\n",
       "      <td>1.8688</td>\n",
       "      <td>2.0</td>\n",
       "      <td>4</td>\n",
       "      <td>5</td>\n",
       "      <td>3</td>\n",
       "      <td>0.1841</td>\n",
       "    </tr>\n",
       "    <tr>\n",
       "      <th>1</th>\n",
       "      <td>M</td>\n",
       "      <td>24.0</td>\n",
       "      <td>3</td>\n",
       "      <td>Single</td>\n",
       "      <td>Springfield</td>\n",
       "      <td>Logistics</td>\n",
       "      <td>Analytical</td>\n",
       "      <td>5.0</td>\n",
       "      <td>4</td>\n",
       "      <td>36</td>\n",
       "      <td>...</td>\n",
       "      <td>type2</td>\n",
       "      <td>4.0</td>\n",
       "      <td>3</td>\n",
       "      <td>-0.9612</td>\n",
       "      <td>-0.4537</td>\n",
       "      <td>2.0</td>\n",
       "      <td>3</td>\n",
       "      <td>5</td>\n",
       "      <td>3</td>\n",
       "      <td>0.0670</td>\n",
       "    </tr>\n",
       "    <tr>\n",
       "      <th>2</th>\n",
       "      <td>F</td>\n",
       "      <td>58.0</td>\n",
       "      <td>3</td>\n",
       "      <td>Married</td>\n",
       "      <td>Clinton</td>\n",
       "      <td>Quality</td>\n",
       "      <td>Conceptual</td>\n",
       "      <td>27.0</td>\n",
       "      <td>3</td>\n",
       "      <td>51</td>\n",
       "      <td>...</td>\n",
       "      <td>type2</td>\n",
       "      <td>1.0</td>\n",
       "      <td>4</td>\n",
       "      <td>-0.9612</td>\n",
       "      <td>-0.4537</td>\n",
       "      <td>3.0</td>\n",
       "      <td>3</td>\n",
       "      <td>8</td>\n",
       "      <td>3</td>\n",
       "      <td>0.0851</td>\n",
       "    </tr>\n",
       "    <tr>\n",
       "      <th>3</th>\n",
       "      <td>F</td>\n",
       "      <td>26.0</td>\n",
       "      <td>3</td>\n",
       "      <td>Single</td>\n",
       "      <td>Lebanon</td>\n",
       "      <td>Human Resource Management</td>\n",
       "      <td>Behavioral</td>\n",
       "      <td>4.0</td>\n",
       "      <td>3</td>\n",
       "      <td>56</td>\n",
       "      <td>...</td>\n",
       "      <td>type2</td>\n",
       "      <td>1.0</td>\n",
       "      <td>3</td>\n",
       "      <td>-1.8176</td>\n",
       "      <td>-0.4537</td>\n",
       "      <td>NaN</td>\n",
       "      <td>3</td>\n",
       "      <td>7</td>\n",
       "      <td>3</td>\n",
       "      <td>0.0668</td>\n",
       "    </tr>\n",
       "    <tr>\n",
       "      <th>4</th>\n",
       "      <td>F</td>\n",
       "      <td>31.0</td>\n",
       "      <td>1</td>\n",
       "      <td>Married</td>\n",
       "      <td>Springfield</td>\n",
       "      <td>Logistics</td>\n",
       "      <td>Conceptual</td>\n",
       "      <td>5.0</td>\n",
       "      <td>4</td>\n",
       "      <td>62</td>\n",
       "      <td>...</td>\n",
       "      <td>type3</td>\n",
       "      <td>3.0</td>\n",
       "      <td>1</td>\n",
       "      <td>0.7516</td>\n",
       "      <td>-0.4537</td>\n",
       "      <td>2.0</td>\n",
       "      <td>2</td>\n",
       "      <td>8</td>\n",
       "      <td>2</td>\n",
       "      <td>0.1827</td>\n",
       "    </tr>\n",
       "  </tbody>\n",
       "</table>\n",
       "<p>5 rows × 23 columns</p>\n",
       "</div>"
      ],
      "text/plain": [
       "  Gender   Age  Education_Level Relationship_Status     Hometown  \\\n",
       "0      F  42.0                4             Married     Franklin   \n",
       "1      M  24.0                3              Single  Springfield   \n",
       "2      F  58.0                3             Married      Clinton   \n",
       "3      F  26.0                3              Single      Lebanon   \n",
       "4      F  31.0                1             Married  Springfield   \n",
       "\n",
       "                        Unit Decision_skill_possess  Time_of_service  \\\n",
       "0                         IT             Conceptual              4.0   \n",
       "1                  Logistics             Analytical              5.0   \n",
       "2                    Quality             Conceptual             27.0   \n",
       "3  Human Resource Management             Behavioral              4.0   \n",
       "4                  Logistics             Conceptual              5.0   \n",
       "\n",
       "   Time_since_promotion  growth_rate  ...  Compensation_and_Benefits  \\\n",
       "0                     4           33  ...                      type2   \n",
       "1                     4           36  ...                      type2   \n",
       "2                     3           51  ...                      type2   \n",
       "3                     3           56  ...                      type2   \n",
       "4                     4           62  ...                      type3   \n",
       "\n",
       "   Work_Life_balance  VAR1    VAR2    VAR3  VAR4  VAR5  VAR6  VAR7  \\\n",
       "0                3.0     4  0.7516  1.8688   2.0     4     5     3   \n",
       "1                4.0     3 -0.9612 -0.4537   2.0     3     5     3   \n",
       "2                1.0     4 -0.9612 -0.4537   3.0     3     8     3   \n",
       "3                1.0     3 -1.8176 -0.4537   NaN     3     7     3   \n",
       "4                3.0     1  0.7516 -0.4537   2.0     2     8     2   \n",
       "\n",
       "   Attrition_rate  \n",
       "0          0.1841  \n",
       "1          0.0670  \n",
       "2          0.0851  \n",
       "3          0.0668  \n",
       "4          0.1827  \n",
       "\n",
       "[5 rows x 23 columns]"
      ]
     },
     "execution_count": 94,
     "metadata": {},
     "output_type": "execute_result"
    }
   ],
   "source": [
    "df.head()"
   ]
  },
  {
   "cell_type": "code",
   "execution_count": 95,
   "metadata": {},
   "outputs": [
    {
     "data": {
      "text/plain": [
       "<matplotlib.axes._subplots.AxesSubplot at 0x24cf7392ac8>"
      ]
     },
     "execution_count": 95,
     "metadata": {},
     "output_type": "execute_result"
    },
    {
     "data": {
      "image/png": "[encoded data removed]",
      "text/plain": [
       "<Figure size 432x288 with 1 Axes>"
      ]
     },
     "metadata": {
      "needs_background": "light"
     },
     "output_type": "display_data"
    }
   ],
   "source": [
    "df.Age.hist()"
   ]
  },
  {
   "cell_type": "code",
   "execution_count": 96,
   "metadata": {},
   "outputs": [
    {
     "data": {
      "text/plain": [
       "<matplotlib.axes._subplots.AxesSubplot at 0x24cf81e49b0>"
      ]
     },
     "execution_count": 96,
     "metadata": {},
     "output_type": "execute_result"
    },
    {
     "data": {
      "image/png": "[encoded data removed]",
      "text/plain": [
       "<Figure size 432x288 with 1 Axes>"
      ]
     },
     "metadata": {
      "needs_background": "light"
     },
     "output_type": "display_data"
    }
   ],
   "source": [
    "df.Time_of_service.hist()"
   ]
  },
  {
   "cell_type": "code",
   "execution_count": 97,
   "metadata": {},
   "outputs": [
    {
     "data": {
      "text/plain": [
       "<matplotlib.axes._subplots.AxesSubplot at 0x24cf749f160>"
      ]
     },
     "execution_count": 97,
     "metadata": {},
     "output_type": "execute_result"
    },
    {
     "data": {
      "image/png": "[encoded data removed]",
      "text/plain": [
       "<Figure size 432x288 with 1 Axes>"
      ]
     },
     "metadata": {
      "needs_background": "light"
     },
     "output_type": "display_data"
    }
   ],
   "source": [
    "df.VAR2.hist()"
   ]
  },
  {
   "cell_type": "code",
   "execution_count": 98,
   "metadata": {},
   "outputs": [
    {
     "data": {
      "text/plain": [
       "<matplotlib.axes._subplots.AxesSubplot at 0x24cf5a893c8>"
      ]
     },
     "execution_count": 98,
     "metadata": {},
     "output_type": "execute_result"
    },
    {
     "data": {
      "image/png": "[encoded data removed]",
      "text/plain": [
       "<Figure size 432x288 with 1 Axes>"
      ]
     },
     "metadata": {
      "needs_background": "light"
     },
     "output_type": "display_data"
    }
   ],
   "source": [
    "df.Pay_Scale.hist()"
   ]
  },
  {
   "cell_type": "code",
   "execution_count": 99,
   "metadata": {},
   "outputs": [
    {
     "data": {
      "text/plain": [
       "<matplotlib.axes._subplots.AxesSubplot at 0x24cf5ca8080>"
      ]
     },
     "execution_count": 99,
     "metadata": {},
     "output_type": "execute_result"
    },
    {
     "data": {
      "image/png": "[encoded data removed]",
      "text/plain": [
       "<Figure size 432x288 with 1 Axes>"
      ]
     },
     "metadata": {
      "needs_background": "light"
     },
     "output_type": "display_data"
    }
   ],
   "source": [
    "df.VAR4.hist()"
   ]
  },
  {
   "cell_type": "code",
   "execution_count": null,
   "metadata": {},
   "outputs": [],
   "source": []
  },
  {
   "cell_type": "code",
   "execution_count": 100,
   "metadata": {},
   "outputs": [],
   "source": [
    "df['Age'].fillna(df['Age'].median(), inplace=True)\n",
    "df_test['Age'].fillna(df_test['Age'].median(), inplace=True)\n",
    "\n",
    "df['Time_of_service'].fillna(df['Time_of_service'].median(), inplace=True)\n",
    "df_test['Time_of_service'].fillna(df_test['Time_of_service'].median(), inplace=True)\n",
    "\n",
    "df['Pay_Scale'].fillna(0, inplace=True)\n",
    "df_test['Pay_Scale'].fillna(0, inplace=True)\n",
    "\n",
    "df['Work_Life_balance'].fillna('nan', inplace=True)\n",
    "df_test['Work_Life_balance'].fillna('nan', inplace=True)\n",
    "\n",
    "df['VAR2'].fillna('nan', inplace=True)\n",
    "df_test['VAR2'].fillna('nan', inplace=True)\n",
    "\n",
    "df['VAR4'].fillna(-1, inplace=True)\n",
    "df_test['VAR4'].fillna(-1, inplace=True)\n",
    "\n"
   ]
  },
  {
   "cell_type": "code",
   "execution_count": 101,
   "metadata": {},
   "outputs": [
    {
     "data": {
      "text/plain": [
       "Gender                       0\n",
       "Age                          0\n",
       "Education_Level              0\n",
       "Relationship_Status          0\n",
       "Hometown                     0\n",
       "Unit                         0\n",
       "Decision_skill_possess       0\n",
       "Time_of_service              0\n",
       "Time_since_promotion         0\n",
       "growth_rate                  0\n",
       "Travel_Rate                  0\n",
       "Post_Level                   0\n",
       "Pay_Scale                    0\n",
       "Compensation_and_Benefits    0\n",
       "Work_Life_balance            0\n",
       "VAR1                         0\n",
       "VAR2                         0\n",
       "VAR3                         0\n",
       "VAR4                         0\n",
       "VAR5                         0\n",
       "VAR6                         0\n",
       "VAR7                         0\n",
       "Attrition_rate               0\n",
       "dtype: int64"
      ]
     },
     "execution_count": 101,
     "metadata": {},
     "output_type": "execute_result"
    }
   ],
   "source": [
    "df.isnull().sum()"
   ]
  },
  {
   "cell_type": "code",
   "execution_count": 102,
   "metadata": {},
   "outputs": [
    {
     "data": {
      "text/plain": [
       "Employee_ID                  0\n",
       "Gender                       0\n",
       "Age                          0\n",
       "Education_Level              0\n",
       "Relationship_Status          0\n",
       "Hometown                     0\n",
       "Unit                         0\n",
       "Decision_skill_possess       0\n",
       "Time_of_service              0\n",
       "Time_since_promotion         0\n",
       "growth_rate                  0\n",
       "Travel_Rate                  0\n",
       "Post_Level                   0\n",
       "Pay_Scale                    0\n",
       "Compensation_and_Benefits    0\n",
       "Work_Life_balance            0\n",
       "VAR1                         0\n",
       "VAR2                         0\n",
       "VAR3                         0\n",
       "VAR4                         0\n",
       "VAR5                         0\n",
       "VAR6                         0\n",
       "VAR7                         0\n",
       "dtype: int64"
      ]
     },
     "execution_count": 102,
     "metadata": {},
     "output_type": "execute_result"
    }
   ],
   "source": [
    "df_test.isnull().sum()"
   ]
  },
  {
   "cell_type": "code",
   "execution_count": 103,
   "metadata": {},
   "outputs": [
    {
     "data": {
      "text/html": [
       "<div>\n",
       "<style scoped>\n",
       "    .dataframe tbody tr th:only-of-type {\n",
       "        vertical-align: middle;\n",
       "    }\n",
       "\n",
       "    .dataframe tbody tr th {\n",
       "        vertical-align: top;\n",
       "    }\n",
       "\n",
       "    .dataframe thead th {\n",
       "        text-align: right;\n",
       "    }\n",
       "</style>\n",
       "<table border=\"1\" class=\"dataframe\">\n",
       "  <thead>\n",
       "    <tr style=\"text-align: right;\">\n",
       "      <th></th>\n",
       "      <th>Age</th>\n",
       "      <th>Education_Level</th>\n",
       "      <th>Time_of_service</th>\n",
       "      <th>Time_since_promotion</th>\n",
       "      <th>growth_rate</th>\n",
       "      <th>Travel_Rate</th>\n",
       "      <th>Post_Level</th>\n",
       "      <th>Pay_Scale</th>\n",
       "      <th>VAR1</th>\n",
       "      <th>VAR3</th>\n",
       "      <th>VAR4</th>\n",
       "      <th>VAR5</th>\n",
       "      <th>VAR6</th>\n",
       "      <th>VAR7</th>\n",
       "      <th>Attrition_rate</th>\n",
       "    </tr>\n",
       "  </thead>\n",
       "  <tbody>\n",
       "    <tr>\n",
       "      <th>Age</th>\n",
       "      <td>1.000000</td>\n",
       "      <td>-0.005370</td>\n",
       "      <td>0.880620</td>\n",
       "      <td>0.140875</td>\n",
       "      <td>0.001430</td>\n",
       "      <td>0.011663</td>\n",
       "      <td>0.001360</td>\n",
       "      <td>0.013129</td>\n",
       "      <td>0.004871</td>\n",
       "      <td>0.007420</td>\n",
       "      <td>0.020246</td>\n",
       "      <td>0.000125</td>\n",
       "      <td>-0.001691</td>\n",
       "      <td>0.008218</td>\n",
       "      <td>-0.014760</td>\n",
       "    </tr>\n",
       "    <tr>\n",
       "      <th>Education_Level</th>\n",
       "      <td>-0.005370</td>\n",
       "      <td>1.000000</td>\n",
       "      <td>-0.012774</td>\n",
       "      <td>-0.002077</td>\n",
       "      <td>0.002991</td>\n",
       "      <td>-0.017690</td>\n",
       "      <td>0.009986</td>\n",
       "      <td>0.006672</td>\n",
       "      <td>-0.002185</td>\n",
       "      <td>-0.009689</td>\n",
       "      <td>-0.004029</td>\n",
       "      <td>0.005444</td>\n",
       "      <td>0.009195</td>\n",
       "      <td>0.012909</td>\n",
       "      <td>-0.008143</td>\n",
       "    </tr>\n",
       "    <tr>\n",
       "      <th>Time_of_service</th>\n",
       "      <td>0.880620</td>\n",
       "      <td>-0.012774</td>\n",
       "      <td>1.000000</td>\n",
       "      <td>0.134779</td>\n",
       "      <td>-0.004045</td>\n",
       "      <td>0.003825</td>\n",
       "      <td>-0.001817</td>\n",
       "      <td>0.021300</td>\n",
       "      <td>0.004664</td>\n",
       "      <td>0.006551</td>\n",
       "      <td>0.007706</td>\n",
       "      <td>0.003412</td>\n",
       "      <td>0.007032</td>\n",
       "      <td>0.006354</td>\n",
       "      <td>-0.017203</td>\n",
       "    </tr>\n",
       "    <tr>\n",
       "      <th>Time_since_promotion</th>\n",
       "      <td>0.140875</td>\n",
       "      <td>-0.002077</td>\n",
       "      <td>0.134779</td>\n",
       "      <td>1.000000</td>\n",
       "      <td>0.014147</td>\n",
       "      <td>-0.012061</td>\n",
       "      <td>-0.008851</td>\n",
       "      <td>-0.005489</td>\n",
       "      <td>-0.002873</td>\n",
       "      <td>-0.002783</td>\n",
       "      <td>-0.008833</td>\n",
       "      <td>0.000563</td>\n",
       "      <td>0.017264</td>\n",
       "      <td>0.005173</td>\n",
       "      <td>0.013880</td>\n",
       "    </tr>\n",
       "    <tr>\n",
       "      <th>growth_rate</th>\n",
       "      <td>0.001430</td>\n",
       "      <td>0.002991</td>\n",
       "      <td>-0.004045</td>\n",
       "      <td>0.014147</td>\n",
       "      <td>1.000000</td>\n",
       "      <td>0.008460</td>\n",
       "      <td>-0.006887</td>\n",
       "      <td>-0.002500</td>\n",
       "      <td>0.001351</td>\n",
       "      <td>0.010991</td>\n",
       "      <td>0.013507</td>\n",
       "      <td>-0.015122</td>\n",
       "      <td>-0.005860</td>\n",
       "      <td>-0.017993</td>\n",
       "      <td>0.014247</td>\n",
       "    </tr>\n",
       "    <tr>\n",
       "      <th>Travel_Rate</th>\n",
       "      <td>0.011663</td>\n",
       "      <td>-0.017690</td>\n",
       "      <td>0.003825</td>\n",
       "      <td>-0.012061</td>\n",
       "      <td>0.008460</td>\n",
       "      <td>1.000000</td>\n",
       "      <td>0.021299</td>\n",
       "      <td>-0.008826</td>\n",
       "      <td>0.023898</td>\n",
       "      <td>-0.009019</td>\n",
       "      <td>-0.009051</td>\n",
       "      <td>-0.003866</td>\n",
       "      <td>-0.012280</td>\n",
       "      <td>-0.006271</td>\n",
       "      <td>-0.012608</td>\n",
       "    </tr>\n",
       "    <tr>\n",
       "      <th>Post_Level</th>\n",
       "      <td>0.001360</td>\n",
       "      <td>0.009986</td>\n",
       "      <td>-0.001817</td>\n",
       "      <td>-0.008851</td>\n",
       "      <td>-0.006887</td>\n",
       "      <td>0.021299</td>\n",
       "      <td>1.000000</td>\n",
       "      <td>0.020893</td>\n",
       "      <td>-0.008458</td>\n",
       "      <td>0.010387</td>\n",
       "      <td>-0.007518</td>\n",
       "      <td>0.013008</td>\n",
       "      <td>0.002765</td>\n",
       "      <td>-0.003397</td>\n",
       "      <td>0.016402</td>\n",
       "    </tr>\n",
       "    <tr>\n",
       "      <th>Pay_Scale</th>\n",
       "      <td>0.013129</td>\n",
       "      <td>0.006672</td>\n",
       "      <td>0.021300</td>\n",
       "      <td>-0.005489</td>\n",
       "      <td>-0.002500</td>\n",
       "      <td>-0.008826</td>\n",
       "      <td>0.020893</td>\n",
       "      <td>1.000000</td>\n",
       "      <td>0.013709</td>\n",
       "      <td>0.003560</td>\n",
       "      <td>0.008879</td>\n",
       "      <td>0.019080</td>\n",
       "      <td>-0.013705</td>\n",
       "      <td>0.002506</td>\n",
       "      <td>-0.015643</td>\n",
       "    </tr>\n",
       "    <tr>\n",
       "      <th>VAR1</th>\n",
       "      <td>0.004871</td>\n",
       "      <td>-0.002185</td>\n",
       "      <td>0.004664</td>\n",
       "      <td>-0.002873</td>\n",
       "      <td>0.001351</td>\n",
       "      <td>0.023898</td>\n",
       "      <td>-0.008458</td>\n",
       "      <td>0.013709</td>\n",
       "      <td>1.000000</td>\n",
       "      <td>-0.003318</td>\n",
       "      <td>0.009413</td>\n",
       "      <td>0.007904</td>\n",
       "      <td>-0.002771</td>\n",
       "      <td>0.009355</td>\n",
       "      <td>-0.008073</td>\n",
       "    </tr>\n",
       "    <tr>\n",
       "      <th>VAR3</th>\n",
       "      <td>0.007420</td>\n",
       "      <td>-0.009689</td>\n",
       "      <td>0.006551</td>\n",
       "      <td>-0.002783</td>\n",
       "      <td>0.010991</td>\n",
       "      <td>-0.009019</td>\n",
       "      <td>0.010387</td>\n",
       "      <td>0.003560</td>\n",
       "      <td>-0.003318</td>\n",
       "      <td>1.000000</td>\n",
       "      <td>-0.006205</td>\n",
       "      <td>-0.003399</td>\n",
       "      <td>0.005096</td>\n",
       "      <td>0.008390</td>\n",
       "      <td>0.001245</td>\n",
       "    </tr>\n",
       "    <tr>\n",
       "      <th>VAR4</th>\n",
       "      <td>0.020246</td>\n",
       "      <td>-0.004029</td>\n",
       "      <td>0.007706</td>\n",
       "      <td>-0.008833</td>\n",
       "      <td>0.013507</td>\n",
       "      <td>-0.009051</td>\n",
       "      <td>-0.007518</td>\n",
       "      <td>0.008879</td>\n",
       "      <td>0.009413</td>\n",
       "      <td>-0.006205</td>\n",
       "      <td>1.000000</td>\n",
       "      <td>0.008832</td>\n",
       "      <td>0.023538</td>\n",
       "      <td>-0.019601</td>\n",
       "      <td>0.004636</td>\n",
       "    </tr>\n",
       "    <tr>\n",
       "      <th>VAR5</th>\n",
       "      <td>0.000125</td>\n",
       "      <td>0.005444</td>\n",
       "      <td>0.003412</td>\n",
       "      <td>0.000563</td>\n",
       "      <td>-0.015122</td>\n",
       "      <td>-0.003866</td>\n",
       "      <td>0.013008</td>\n",
       "      <td>0.019080</td>\n",
       "      <td>0.007904</td>\n",
       "      <td>-0.003399</td>\n",
       "      <td>0.008832</td>\n",
       "      <td>1.000000</td>\n",
       "      <td>-0.005412</td>\n",
       "      <td>0.009436</td>\n",
       "      <td>-0.004770</td>\n",
       "    </tr>\n",
       "    <tr>\n",
       "      <th>VAR6</th>\n",
       "      <td>-0.001691</td>\n",
       "      <td>0.009195</td>\n",
       "      <td>0.007032</td>\n",
       "      <td>0.017264</td>\n",
       "      <td>-0.005860</td>\n",
       "      <td>-0.012280</td>\n",
       "      <td>0.002765</td>\n",
       "      <td>-0.013705</td>\n",
       "      <td>-0.002771</td>\n",
       "      <td>0.005096</td>\n",
       "      <td>0.023538</td>\n",
       "      <td>-0.005412</td>\n",
       "      <td>1.000000</td>\n",
       "      <td>0.011908</td>\n",
       "      <td>-0.003130</td>\n",
       "    </tr>\n",
       "    <tr>\n",
       "      <th>VAR7</th>\n",
       "      <td>0.008218</td>\n",
       "      <td>0.012909</td>\n",
       "      <td>0.006354</td>\n",
       "      <td>0.005173</td>\n",
       "      <td>-0.017993</td>\n",
       "      <td>-0.006271</td>\n",
       "      <td>-0.003397</td>\n",
       "      <td>0.002506</td>\n",
       "      <td>0.009355</td>\n",
       "      <td>0.008390</td>\n",
       "      <td>-0.019601</td>\n",
       "      <td>0.009436</td>\n",
       "      <td>0.011908</td>\n",
       "      <td>1.000000</td>\n",
       "      <td>-0.015299</td>\n",
       "    </tr>\n",
       "    <tr>\n",
       "      <th>Attrition_rate</th>\n",
       "      <td>-0.014760</td>\n",
       "      <td>-0.008143</td>\n",
       "      <td>-0.017203</td>\n",
       "      <td>0.013880</td>\n",
       "      <td>0.014247</td>\n",
       "      <td>-0.012608</td>\n",
       "      <td>0.016402</td>\n",
       "      <td>-0.015643</td>\n",
       "      <td>-0.008073</td>\n",
       "      <td>0.001245</td>\n",
       "      <td>0.004636</td>\n",
       "      <td>-0.004770</td>\n",
       "      <td>-0.003130</td>\n",
       "      <td>-0.015299</td>\n",
       "      <td>1.000000</td>\n",
       "    </tr>\n",
       "  </tbody>\n",
       "</table>\n",
       "</div>"
      ],
      "text/plain": [
       "                           Age  Education_Level  Time_of_service  \\\n",
       "Age                   1.000000        -0.005370         0.880620   \n",
       "Education_Level      -0.005370         1.000000        -0.012774   \n",
       "Time_of_service       0.880620        -0.012774         1.000000   \n",
       "Time_since_promotion  0.140875        -0.002077         0.134779   \n",
       "growth_rate           0.001430         0.002991        -0.004045   \n",
       "Travel_Rate           0.011663        -0.017690         0.003825   \n",
       "Post_Level            0.001360         0.009986        -0.001817   \n",
       "Pay_Scale             0.013129         0.006672         0.021300   \n",
       "VAR1                  0.004871        -0.002185         0.004664   \n",
       "VAR3                  0.007420        -0.009689         0.006551   \n",
       "VAR4                  0.020246        -0.004029         0.007706   \n",
       "VAR5                  0.000125         0.005444         0.003412   \n",
       "VAR6                 -0.001691         0.009195         0.007032   \n",
       "VAR7                  0.008218         0.012909         0.006354   \n",
       "Attrition_rate       -0.014760        -0.008143        -0.017203   \n",
       "\n",
       "                      Time_since_promotion  growth_rate  Travel_Rate  \\\n",
       "Age                               0.140875     0.001430     0.011663   \n",
       "Education_Level                  -0.002077     0.002991    -0.017690   \n",
       "Time_of_service                   0.134779    -0.004045     0.003825   \n",
       "Time_since_promotion              1.000000     0.014147    -0.012061   \n",
       "growth_rate                       0.014147     1.000000     0.008460   \n",
       "Travel_Rate                      -0.012061     0.008460     1.000000   \n",
       "Post_Level                       -0.008851    -0.006887     0.021299   \n",
       "Pay_Scale                        -0.005489    -0.002500    -0.008826   \n",
       "VAR1                             -0.002873     0.001351     0.023898   \n",
       "VAR3                             -0.002783     0.010991    -0.009019   \n",
       "VAR4                             -0.008833     0.013507    -0.009051   \n",
       "VAR5                              0.000563    -0.015122    -0.003866   \n",
       "VAR6                              0.017264    -0.005860    -0.012280   \n",
       "VAR7                              0.005173    -0.017993    -0.006271   \n",
       "Attrition_rate                    0.013880     0.014247    -0.012608   \n",
       "\n",
       "                      Post_Level  Pay_Scale      VAR1      VAR3      VAR4  \\\n",
       "Age                     0.001360   0.013129  0.004871  0.007420  0.020246   \n",
       "Education_Level         0.009986   0.006672 -0.002185 -0.009689 -0.004029   \n",
       "Time_of_service        -0.001817   0.021300  0.004664  0.006551  0.007706   \n",
       "Time_since_promotion   -0.008851  -0.005489 -0.002873 -0.002783 -0.008833   \n",
       "growth_rate            -0.006887  -0.002500  0.001351  0.010991  0.013507   \n",
       "Travel_Rate             0.021299  -0.008826  0.023898 -0.009019 -0.009051   \n",
       "Post_Level              1.000000   0.020893 -0.008458  0.010387 -0.007518   \n",
       "Pay_Scale               0.020893   1.000000  0.013709  0.003560  0.008879   \n",
       "VAR1                   -0.008458   0.013709  1.000000 -0.003318  0.009413   \n",
       "VAR3                    0.010387   0.003560 -0.003318  1.000000 -0.006205   \n",
       "VAR4                   -0.007518   0.008879  0.009413 -0.006205  1.000000   \n",
       "VAR5                    0.013008   0.019080  0.007904 -0.003399  0.008832   \n",
       "VAR6                    0.002765  -0.013705 -0.002771  0.005096  0.023538   \n",
       "VAR7                   -0.003397   0.002506  0.009355  0.008390 -0.019601   \n",
       "Attrition_rate          0.016402  -0.015643 -0.008073  0.001245  0.004636   \n",
       "\n",
       "                          VAR5      VAR6      VAR7  Attrition_rate  \n",
       "Age                   0.000125 -0.001691  0.008218       -0.014760  \n",
       "Education_Level       0.005444  0.009195  0.012909       -0.008143  \n",
       "Time_of_service       0.003412  0.007032  0.006354       -0.017203  \n",
       "Time_since_promotion  0.000563  0.017264  0.005173        0.013880  \n",
       "growth_rate          -0.015122 -0.005860 -0.017993        0.014247  \n",
       "Travel_Rate          -0.003866 -0.012280 -0.006271       -0.012608  \n",
       "Post_Level            0.013008  0.002765 -0.003397        0.016402  \n",
       "Pay_Scale             0.019080 -0.013705  0.002506       -0.015643  \n",
       "VAR1                  0.007904 -0.002771  0.009355       -0.008073  \n",
       "VAR3                 -0.003399  0.005096  0.008390        0.001245  \n",
       "VAR4                  0.008832  0.023538 -0.019601        0.004636  \n",
       "VAR5                  1.000000 -0.005412  0.009436       -0.004770  \n",
       "VAR6                 -0.005412  1.000000  0.011908       -0.003130  \n",
       "VAR7                  0.009436  0.011908  1.000000       -0.015299  \n",
       "Attrition_rate       -0.004770 -0.003130 -0.015299        1.000000  "
      ]
     },
     "execution_count": 103,
     "metadata": {},
     "output_type": "execute_result"
    }
   ],
   "source": [
    "df.corr()"
   ]
  },
  {
   "cell_type": "code",
   "execution_count": 104,
   "metadata": {},
   "outputs": [
    {
     "data": {
      "text/plain": [
       "<matplotlib.axes._subplots.AxesSubplot at 0x24cf725d3c8>"
      ]
     },
     "execution_count": 104,
     "metadata": {},
     "output_type": "execute_result"
    },
    {
     "data": {
      "image/png": "[encoded data removed]",
      "text/plain": [
       "<Figure size 1152x504 with 2 Axes>"
      ]
     },
     "metadata": {
      "needs_background": "light"
     },
     "output_type": "display_data"
    }
   ],
   "source": [
    "plt.figure(figsize=(16,7))\n",
    "sns.heatmap(df.corr(),cmap='coolwarm',annot=True)"
   ]
  },
  {
   "cell_type": "code",
   "execution_count": 105,
   "metadata": {},
   "outputs": [
    {
     "data": {
      "text/plain": [
       "<matplotlib.axes._subplots.AxesSubplot at 0x24cf988b6d8>"
      ]
     },
     "execution_count": 105,
     "metadata": {},
     "output_type": "execute_result"
    },
    {
     "data": {
      "image/png": "[encoded data removed]",
      "text/plain": [
       "<Figure size 432x288 with 1 Axes>"
      ]
     },
     "metadata": {
      "needs_background": "light"
     },
     "output_type": "display_data"
    }
   ],
   "source": [
    "sns.boxplot(x=df[\"Age\"])"
   ]
  },
  {
   "cell_type": "code",
   "execution_count": 106,
   "metadata": {},
   "outputs": [],
   "source": [
    "catcol = ['Gender','Relationship_Status', 'Hometown', 'Unit', 'Decision_skill_possess','Compensation_and_Benefits']"
   ]
  },
  {
   "cell_type": "code",
   "execution_count": 107,
   "metadata": {},
   "outputs": [
    {
     "name": "stdout",
     "output_type": "stream",
     "text": [
      "graph for Gender: 2\n"
     ]
    },
    {
     "data": {
      "image/png": "[encoded data removed]",
      "text/plain": [
       "<Figure size 432x288 with 1 Axes>"
      ]
     },
     "metadata": {
      "needs_background": "light"
     },
     "output_type": "display_data"
    },
    {
     "name": "stdout",
     "output_type": "stream",
     "text": [
      "graph for Relationship_Status: 2\n"
     ]
    },
    {
     "data": {
      "image/png": "[encoded data removed]",
      "text/plain": [
       "<Figure size 432x288 with 1 Axes>"
      ]
     },
     "metadata": {
      "needs_background": "light"
     },
     "output_type": "display_data"
    },
    {
     "name": "stdout",
     "output_type": "stream",
     "text": [
      "graph for Hometown: 5\n"
     ]
    },
    {
     "data": {
      "image/png": "[encoded data removed]",
      "text/plain": [
       "<Figure size 432x288 with 1 Axes>"
      ]
     },
     "metadata": {
      "needs_background": "light"
     },
     "output_type": "display_data"
    },
    {
     "name": "stdout",
     "output_type": "stream",
     "text": [
      "graph for Unit: 12\n"
     ]
    },
    {
     "data": {
      "image/png": "[encoded data removed]",
      "text/plain": [
       "<Figure size 432x288 with 1 Axes>"
      ]
     },
     "metadata": {
      "needs_background": "light"
     },
     "output_type": "display_data"
    },
    {
     "name": "stdout",
     "output_type": "stream",
     "text": [
      "graph for Decision_skill_possess: 4\n"
     ]
    },
    {
     "data": {
      "image/png": "[encoded data removed]",
      "text/plain": [
       "<Figure size 432x288 with 1 Axes>"
      ]
     },
     "metadata": {
      "needs_background": "light"
     },
     "output_type": "display_data"
    },
    {
     "name": "stdout",
     "output_type": "stream",
     "text": [
      "graph for Compensation_and_Benefits: 5\n"
     ]
    },
    {
     "data": {
      "image/png": "[encoded data removed]",
      "text/plain": [
       "<Figure size 432x288 with 1 Axes>"
      ]
     },
     "metadata": {
      "needs_background": "light"
     },
     "output_type": "display_data"
    }
   ],
   "source": [
    "for i in catcol:\n",
    "    cat = df[i].value_counts()\n",
    "    print('graph for %s: %d' % (i,len(cat)))\n",
    "    chart = sns.barplot(x=cat,y=cat.index,data=df)\n",
    "    plt.xticks(rotation=90)\n",
    "    chart.set_yticklabels(chart.get_yticklabels(), rotation=30)\n",
    "    plt.show()"
   ]
  },
  {
   "cell_type": "code",
   "execution_count": 108,
   "metadata": {},
   "outputs": [
    {
     "name": "stdout",
     "output_type": "stream",
     "text": [
      "graph for Age: 47\n"
     ]
    },
    {
     "data": {
      "image/png": "[encoded data removed]",
      "text/plain": [
       "<Figure size 432x288 with 1 Axes>"
      ]
     },
     "metadata": {
      "needs_background": "light"
     },
     "output_type": "display_data"
    },
    {
     "name": "stdout",
     "output_type": "stream",
     "text": [
      "graph for Education_Level: 5\n"
     ]
    },
    {
     "data": {
      "image/png": "[encoded data removed]",
      "text/plain": [
       "<Figure size 432x288 with 1 Axes>"
      ]
     },
     "metadata": {
      "needs_background": "light"
     },
     "output_type": "display_data"
    },
    {
     "name": "stdout",
     "output_type": "stream",
     "text": [
      "graph for Time_of_service: 44\n"
     ]
    },
    {
     "data": {
      "image/png": "[encoded data removed]",
      "text/plain": [
       "<Figure size 432x288 with 1 Axes>"
      ]
     },
     "metadata": {
      "needs_background": "light"
     },
     "output_type": "display_data"
    },
    {
     "name": "stdout",
     "output_type": "stream",
     "text": [
      "graph for Time_since_promotion: 5\n"
     ]
    },
    {
     "data": {
      "image/png": "[encoded data removed]",
      "text/plain": [
       "<Figure size 432x288 with 1 Axes>"
      ]
     },
     "metadata": {
      "needs_background": "light"
     },
     "output_type": "display_data"
    },
    {
     "name": "stdout",
     "output_type": "stream",
     "text": [
      "graph for growth_rate: 55\n"
     ]
    },
    {
     "data": {
      "image/png": "[encoded data removed]",
      "text/plain": [
       "<Figure size 432x288 with 1 Axes>"
      ]
     },
     "metadata": {
      "needs_background": "light"
     },
     "output_type": "display_data"
    },
    {
     "name": "stdout",
     "output_type": "stream",
     "text": [
      "graph for Travel_Rate: 3\n"
     ]
    },
    {
     "data": {
      "image/png": "[encoded data removed]",
      "text/plain": [
       "<Figure size 432x288 with 1 Axes>"
      ]
     },
     "metadata": {
      "needs_background": "light"
     },
     "output_type": "display_data"
    },
    {
     "name": "stdout",
     "output_type": "stream",
     "text": [
      "graph for Post_Level: 5\n"
     ]
    },
    {
     "data": {
      "image/png": "[encoded data removed]",
      "text/plain": [
       "<Figure size 432x288 with 1 Axes>"
      ]
     },
     "metadata": {
      "needs_background": "light"
     },
     "output_type": "display_data"
    },
    {
     "name": "stdout",
     "output_type": "stream",
     "text": [
      "graph for Pay_Scale: 11\n"
     ]
    },
    {
     "data": {
      "image/png": "[encoded data removed]",
      "text/plain": [
       "<Figure size 432x288 with 1 Axes>"
      ]
     },
     "metadata": {
      "needs_background": "light"
     },
     "output_type": "display_data"
    },
    {
     "name": "stdout",
     "output_type": "stream",
     "text": [
      "graph for Work_Life_balance: 6\n"
     ]
    },
    {
     "data": {
      "image/png": "[encoded data removed]",
      "text/plain": [
       "<Figure size 432x288 with 1 Axes>"
      ]
     },
     "metadata": {
      "needs_background": "light"
     },
     "output_type": "display_data"
    },
    {
     "name": "stdout",
     "output_type": "stream",
     "text": [
      "graph for VAR1: 5\n"
     ]
    },
    {
     "data": {
      "image/png": "[encoded data removed]",
      "text/plain": [
       "<Figure size 432x288 with 1 Axes>"
      ]
     },
     "metadata": {
      "needs_background": "light"
     },
     "output_type": "display_data"
    },
    {
     "name": "stdout",
     "output_type": "stream",
     "text": [
      "graph for VAR2: 6\n"
     ]
    },
    {
     "data": {
      "image/png": "[encoded data removed]",
      "text/plain": [
       "<Figure size 432x288 with 1 Axes>"
      ]
     },
     "metadata": {
      "needs_background": "light"
     },
     "output_type": "display_data"
    },
    {
     "name": "stdout",
     "output_type": "stream",
     "text": [
      "graph for VAR3: 5\n"
     ]
    },
    {
     "data": {
      "image/png": "[encoded data removed]",
      "text/plain": [
       "<Figure size 432x288 with 1 Axes>"
      ]
     },
     "metadata": {
      "needs_background": "light"
     },
     "output_type": "display_data"
    },
    {
     "name": "stdout",
     "output_type": "stream",
     "text": [
      "graph for VAR4: 4\n"
     ]
    },
    {
     "data": {
      "image/png": "[encoded data removed]",
      "text/plain": [
       "<Figure size 432x288 with 1 Axes>"
      ]
     },
     "metadata": {
      "needs_background": "light"
     },
     "output_type": "display_data"
    },
    {
     "name": "stdout",
     "output_type": "stream",
     "text": [
      "graph for VAR5: 5\n"
     ]
    },
    {
     "data": {
      "image/png": "[encoded data removed]",
      "text/plain": [
       "<Figure size 432x288 with 1 Axes>"
      ]
     },
     "metadata": {
      "needs_background": "light"
     },
     "output_type": "display_data"
    },
    {
     "name": "stdout",
     "output_type": "stream",
     "text": [
      "graph for VAR6: 5\n"
     ]
    },
    {
     "data": {
      "image/png": "[encoded data removed]",
      "text/plain": [
       "<Figure size 432x288 with 1 Axes>"
      ]
     },
     "metadata": {
      "needs_background": "light"
     },
     "output_type": "display_data"
    },
    {
     "name": "stdout",
     "output_type": "stream",
     "text": [
      "graph for VAR7: 5\n"
     ]
    },
    {
     "data": {
      "image/png": "[encoded data removed]",
      "text/plain": [
       "<Figure size 432x288 with 1 Axes>"
      ]
     },
     "metadata": {
      "needs_background": "light"
     },
     "output_type": "display_data"
    },
    {
     "name": "stdout",
     "output_type": "stream",
     "text": [
      "graph for Attrition_rate: 3317\n"
     ]
    },
    {
     "data": {
      "image/png": "[encoded data removed]",
      "text/plain": [
       "<Figure size 432x288 with 1 Axes>"
      ]
     },
     "metadata": {
      "needs_background": "light"
     },
     "output_type": "display_data"
    }
   ],
   "source": [
    "for i in df.columns:\n",
    "    if i not in catcol:\n",
    "        cat = df[i].value_counts()\n",
    "        print('graph for %s: %d' % (i,len(cat)))\n",
    "        chart = sns.barplot(x=cat,y=cat.index,data=df)\n",
    "        plt.xticks(rotation=90)\n",
    "        chart.set_yticklabels(chart.get_yticklabels(), rotation=30)\n",
    "        plt.show()"
   ]
  },
  {
   "cell_type": "code",
   "execution_count": 109,
   "metadata": {},
   "outputs": [
    {
     "data": {
      "text/plain": [
       "(7000, 23)"
      ]
     },
     "execution_count": 109,
     "metadata": {},
     "output_type": "execute_result"
    }
   ],
   "source": [
    "df_cat = df.copy()\n",
    "df_cat_test = df_test.copy()\n",
    "df_cat.shape"
   ]
  },
  {
   "cell_type": "code",
   "execution_count": 110,
   "metadata": {},
   "outputs": [
    {
     "data": {
      "text/plain": [
       "(3000, 23)"
      ]
     },
     "execution_count": 110,
     "metadata": {},
     "output_type": "execute_result"
    }
   ],
   "source": [
    "df_cat_test.shape"
   ]
  },
  {
   "cell_type": "code",
   "execution_count": 111,
   "metadata": {},
   "outputs": [
    {
     "name": "stdout",
     "output_type": "stream",
     "text": [
      "['type2' 'type3' 'type0' 'type4' 'type1']\n",
      "['type2' 'type3' 'type0' 'type4' 'type1']\n"
     ]
    }
   ],
   "source": [
    "print(df_cat['Compensation_and_Benefits'].unique())\n",
    "print(df_cat_test['Compensation_and_Benefits'].unique())"
   ]
  },
  {
   "cell_type": "code",
   "execution_count": 112,
   "metadata": {},
   "outputs": [],
   "source": [
    "le=['Compensation_and_Benefits',\"Pay_Scale\",\"Unit\",'Work_Life_balance']\n",
    "dummy=['Decision_skill_possess','Education_Level','Gender','Hometown','Post_Level','Relationship_Status'\n",
    "      'Time_since_promotion','Travel_Rate',\"VAR1\",\"VAR2\",\"VAR3\",\"VAR4\",\"VAR5\",\"VAR6\",\"VAR7\"]"
   ]
  },
  {
   "cell_type": "code",
   "execution_count": 113,
   "metadata": {},
   "outputs": [],
   "source": [
    "df_cat = pd.get_dummies(data=df_cat ,columns=['Decision_skill_possess','Education_Level','Gender','Hometown','Post_Level','Relationship_Status',\n",
    "      'Time_since_promotion','Travel_Rate',\"VAR1\",\"VAR2\",\"VAR3\",\"VAR4\",\"VAR5\",\"VAR6\",\"VAR7\"],drop_first=True)\n",
    "df_cat_test = pd.get_dummies(data=df_cat_test ,columns=['Decision_skill_possess','Education_Level','Gender','Hometown','Post_Level','Relationship_Status',\n",
    "      'Time_since_promotion','Travel_Rate',\"VAR1\",\"VAR2\",\"VAR3\",\"VAR4\",\"VAR5\",\"VAR6\",\"VAR7\"],drop_first=True)"
   ]
  },
  {
   "cell_type": "code",
   "execution_count": 114,
   "metadata": {},
   "outputs": [
    {
     "data": {
      "text/plain": [
       "Age                                  float64\n",
       "Unit                                  object\n",
       "Time_of_service                      float64\n",
       "growth_rate                            int64\n",
       "Pay_Scale                            float64\n",
       "Compensation_and_Benefits             object\n",
       "Work_Life_balance                     object\n",
       "Attrition_rate                       float64\n",
       "Decision_skill_possess_Behavioral      uint8\n",
       "Decision_skill_possess_Conceptual      uint8\n",
       "Decision_skill_possess_Directive       uint8\n",
       "Education_Level_2                      uint8\n",
       "Education_Level_3                      uint8\n",
       "Education_Level_4                      uint8\n",
       "Education_Level_5                      uint8\n",
       "Gender_M                               uint8\n",
       "Hometown_Franklin                      uint8\n",
       "Hometown_Lebanon                       uint8\n",
       "Hometown_Springfield                   uint8\n",
       "Hometown_Washington                    uint8\n",
       "Post_Level_2                           uint8\n",
       "Post_Level_3                           uint8\n",
       "Post_Level_4                           uint8\n",
       "Post_Level_5                           uint8\n",
       "Relationship_Status_Single             uint8\n",
       "Time_since_promotion_1                 uint8\n",
       "Time_since_promotion_2                 uint8\n",
       "Time_since_promotion_3                 uint8\n",
       "Time_since_promotion_4                 uint8\n",
       "Travel_Rate_1                          uint8\n",
       "Travel_Rate_2                          uint8\n",
       "VAR1_2                                 uint8\n",
       "VAR1_3                                 uint8\n",
       "VAR1_4                                 uint8\n",
       "VAR1_5                                 uint8\n",
       "VAR2_-0.9612                           uint8\n",
       "VAR2_-0.1048                           uint8\n",
       "VAR2_0.7516                            uint8\n",
       "VAR2_1.6081                            uint8\n",
       "VAR2_nan                               uint8\n",
       "VAR3_-1.615                            uint8\n",
       "VAR3_-0.4537                           uint8\n",
       "VAR3_0.7075                            uint8\n",
       "VAR3_1.8688                            uint8\n",
       "VAR4_1.0                               uint8\n",
       "VAR4_2.0                               uint8\n",
       "VAR4_3.0                               uint8\n",
       "VAR5_2                                 uint8\n",
       "VAR5_3                                 uint8\n",
       "VAR5_4                                 uint8\n",
       "VAR5_5                                 uint8\n",
       "VAR6_6                                 uint8\n",
       "VAR6_7                                 uint8\n",
       "VAR6_8                                 uint8\n",
       "VAR6_9                                 uint8\n",
       "VAR7_2                                 uint8\n",
       "VAR7_3                                 uint8\n",
       "VAR7_4                                 uint8\n",
       "VAR7_5                                 uint8\n",
       "dtype: object"
      ]
     },
     "execution_count": 114,
     "metadata": {},
     "output_type": "execute_result"
    }
   ],
   "source": [
    "df_cat.dtypes"
   ]
  },
  {
   "cell_type": "code",
   "execution_count": 127,
   "metadata": {},
   "outputs": [],
   "source": [
    "from sklearn.preprocessing import LabelEncoder\n",
    "le=LabelEncoder()\n",
    "df_cat['Compensation_and_Benefits']=le.fit_transform(df_cat['Compensation_and_Benefits'].astype(str))\n",
    "df_cat_test['Compensation_and_Benefits']=le.fit_transform(df_cat_test['Compensation_and_Benefits'].astype(str))\n",
    "\n",
    "le=LabelEncoder()\n",
    "df_cat[\"Pay_Scale\"]=le.fit_transform(df_cat[\"Pay_Scale\"].astype(str))\n",
    "df_cat_test['Pay_Scale']=le.fit_transform(df_cat_test['Pay_Scale'].astype(str))\n",
    "\n",
    "le=LabelEncoder()\n",
    "\n",
    "df_cat[\"Unit\"]=le.fit_transform(df_cat[\"Unit\"].astype(str))\n",
    "df_cat_test['Unit']=le.fit_transform(df_cat_test['Unit'].astype(str))\n",
    "\n",
    "le=LabelEncoder()\n",
    "\n",
    "df_cat['Work_Life_balance']=le.fit_transform(df_cat['Work_Life_balance'].astype(str))\n",
    "df_cat_test['Work_Life_balance']=le.fit_transform(df_cat_test['Work_Life_balance'].astype(str))"
   ]
  },
  {
   "cell_type": "code",
   "execution_count": 128,
   "metadata": {},
   "outputs": [
    {
     "name": "stdout",
     "output_type": "stream",
     "text": [
      "<class 'pandas.core.frame.DataFrame'>\n",
      "RangeIndex: 7000 entries, 0 to 6999\n",
      "Data columns (total 59 columns):\n",
      " #   Column                             Non-Null Count  Dtype  \n",
      "---  ------                             --------------  -----  \n",
      " 0   Age                                7000 non-null   float64\n",
      " 1   Unit                               7000 non-null   int32  \n",
      " 2   Time_of_service                    7000 non-null   float64\n",
      " 3   growth_rate                        7000 non-null   int64  \n",
      " 4   Pay_Scale                          7000 non-null   int32  \n",
      " 5   Compensation_and_Benefits          7000 non-null   int32  \n",
      " 6   Work_Life_balance                  7000 non-null   int32  \n",
      " 7   Attrition_rate                     7000 non-null   float64\n",
      " 8   Decision_skill_possess_Behavioral  7000 non-null   uint8  \n",
      " 9   Decision_skill_possess_Conceptual  7000 non-null   uint8  \n",
      " 10  Decision_skill_possess_Directive   7000 non-null   uint8  \n",
      " 11  Education_Level_2                  7000 non-null   uint8  \n",
      " 12  Education_Level_3                  7000 non-null   uint8  \n",
      " 13  Education_Level_4                  7000 non-null   uint8  \n",
      " 14  Education_Level_5                  7000 non-null   uint8  \n",
      " 15  Gender_M                           7000 non-null   uint8  \n",
      " 16  Hometown_Franklin                  7000 non-null   uint8  \n",
      " 17  Hometown_Lebanon                   7000 non-null   uint8  \n",
      " 18  Hometown_Springfield               7000 non-null   uint8  \n",
      " 19  Hometown_Washington                7000 non-null   uint8  \n",
      " 20  Post_Level_2                       7000 non-null   uint8  \n",
      " 21  Post_Level_3                       7000 non-null   uint8  \n",
      " 22  Post_Level_4                       7000 non-null   uint8  \n",
      " 23  Post_Level_5                       7000 non-null   uint8  \n",
      " 24  Relationship_Status_Single         7000 non-null   uint8  \n",
      " 25  Time_since_promotion_1             7000 non-null   uint8  \n",
      " 26  Time_since_promotion_2             7000 non-null   uint8  \n",
      " 27  Time_since_promotion_3             7000 non-null   uint8  \n",
      " 28  Time_since_promotion_4             7000 non-null   uint8  \n",
      " 29  Travel_Rate_1                      7000 non-null   uint8  \n",
      " 30  Travel_Rate_2                      7000 non-null   uint8  \n",
      " 31  VAR1_2                             7000 non-null   uint8  \n",
      " 32  VAR1_3                             7000 non-null   uint8  \n",
      " 33  VAR1_4                             7000 non-null   uint8  \n",
      " 34  VAR1_5                             7000 non-null   uint8  \n",
      " 35  VAR2_-0.9612                       7000 non-null   uint8  \n",
      " 36  VAR2_-0.1048                       7000 non-null   uint8  \n",
      " 37  VAR2_0.7516                        7000 non-null   uint8  \n",
      " 38  VAR2_1.6081                        7000 non-null   uint8  \n",
      " 39  VAR2_nan                           7000 non-null   uint8  \n",
      " 40  VAR3_-1.615                        7000 non-null   uint8  \n",
      " 41  VAR3_-0.4537                       7000 non-null   uint8  \n",
      " 42  VAR3_0.7075                        7000 non-null   uint8  \n",
      " 43  VAR3_1.8688                        7000 non-null   uint8  \n",
      " 44  VAR4_1.0                           7000 non-null   uint8  \n",
      " 45  VAR4_2.0                           7000 non-null   uint8  \n",
      " 46  VAR4_3.0                           7000 non-null   uint8  \n",
      " 47  VAR5_2                             7000 non-null   uint8  \n",
      " 48  VAR5_3                             7000 non-null   uint8  \n",
      " 49  VAR5_4                             7000 non-null   uint8  \n",
      " 50  VAR5_5                             7000 non-null   uint8  \n",
      " 51  VAR6_6                             7000 non-null   uint8  \n",
      " 52  VAR6_7                             7000 non-null   uint8  \n",
      " 53  VAR6_8                             7000 non-null   uint8  \n",
      " 54  VAR6_9                             7000 non-null   uint8  \n",
      " 55  VAR7_2                             7000 non-null   uint8  \n",
      " 56  VAR7_3                             7000 non-null   uint8  \n",
      " 57  VAR7_4                             7000 non-null   uint8  \n",
      " 58  VAR7_5                             7000 non-null   uint8  \n",
      "dtypes: float64(3), int32(4), int64(1), uint8(51)\n",
      "memory usage: 676.9 KB\n"
     ]
    }
   ],
   "source": [
    "df_cat.info()"
   ]
  },
  {
   "cell_type": "code",
   "execution_count": 139,
   "metadata": {},
   "outputs": [],
   "source": [
    "x = df_cat.drop('Attrition_rate',axis=1)\n",
    "y = df_cat['Attrition_rate']"
   ]
  },
  {
   "cell_type": "code",
   "execution_count": 140,
   "metadata": {},
   "outputs": [
    {
     "data": {
      "text/plain": [
       "(7000, 58)"
      ]
     },
     "execution_count": 140,
     "metadata": {},
     "output_type": "execute_result"
    }
   ],
   "source": [
    "x.shape"
   ]
  },
  {
   "cell_type": "code",
   "execution_count": 141,
   "metadata": {},
   "outputs": [
    {
     "data": {
      "text/plain": [
       "(7000,)"
      ]
     },
     "execution_count": 141,
     "metadata": {},
     "output_type": "execute_result"
    }
   ],
   "source": [
    "y.shape"
   ]
  },
  {
   "cell_type": "code",
   "execution_count": 142,
   "metadata": {},
   "outputs": [],
   "source": [
    "x_test = df_cat_test.copy()\n",
    "\n"
   ]
  },
  {
   "cell_type": "code",
   "execution_count": 143,
   "metadata": {},
   "outputs": [
    {
     "data": {
      "text/plain": [
       "(3000, 59)"
      ]
     },
     "execution_count": 143,
     "metadata": {},
     "output_type": "execute_result"
    }
   ],
   "source": [
    "x_test.shape"
   ]
  },
  {
   "cell_type": "code",
   "execution_count": 144,
   "metadata": {},
   "outputs": [
    {
     "name": "stdout",
     "output_type": "stream",
     "text": [
      "Employee_ID\n"
     ]
    }
   ],
   "source": [
    "for i in x_test.columns:\n",
    "    if i not in x.columns:\n",
    "        print(i)"
   ]
  },
  {
   "cell_type": "code",
   "execution_count": 145,
   "metadata": {},
   "outputs": [],
   "source": [
    "x_test = x_test.drop('Employee_ID',axis=1)\n"
   ]
  },
  {
   "cell_type": "code",
   "execution_count": 149,
   "metadata": {},
   "outputs": [
    {
     "name": "stdout",
     "output_type": "stream",
     "text": [
      "(3000, 58) (7000, 58) (7000,)\n"
     ]
    }
   ],
   "source": [
    "print(x_test.shape , x.shape , y.shape)"
   ]
  },
  {
   "cell_type": "code",
   "execution_count": 153,
   "metadata": {},
   "outputs": [
    {
     "name": "stdout",
     "output_type": "stream",
     "text": [
      "lr:-0.186288 (0.000091)\n",
      "knn:-0.200649 (0.000098)\n",
      "rf:-0.189839 (0.000121)\n",
      "rf_boost:-0.196263 (0.000076)\n",
      "gboost:-0.187224 (0.000137)\n"
     ]
    },
    {
     "data": {
      "image/png": "[encoded data removed]",
      "text/plain": [
       "<Figure size 432x288 with 1 Axes>"
      ]
     },
     "metadata": {
      "needs_background": "light"
     },
     "output_type": "display_data"
    },
    {
     "name": "stdout",
     "output_type": "stream",
     "text": [
      "  Description      rmse\n",
      "0          lr -0.186288\n",
      "0         knn -0.200649\n",
      "0          rf -0.189839\n",
      "0    rf_boost -0.196263\n",
      "0      gboost -0.187224\n"
     ]
    }
   ],
   "source": [
    "from sklearn.linear_model import LinearRegression\n",
    "from sklearn.neighbors import KNeighborsRegressor\n",
    "from sklearn.ensemble import RandomForestRegressor\n",
    "from sklearn.naive_bayes import GaussianNB\n",
    "from sklearn.ensemble import AdaBoostRegressor\n",
    "from sklearn.ensemble import GradientBoostingRegressor\n",
    "from sklearn.model_selection import KFold\n",
    "from sklearn.pipeline import Pipeline\n",
    "from sklearn.preprocessing import StandardScaler\n",
    "from sklearn.model_selection import cross_val_score\n",
    "\n",
    "non_linear_models=[]\n",
    "linear_models=[]\n",
    "\n",
    "\n",
    "lr=LinearRegression()\n",
    "knn=KNeighborsRegressor()\n",
    "rf=RandomForestRegressor()\n",
    "rf_boost=AdaBoostRegressor()\n",
    "gboost=GradientBoostingRegressor()\n",
    "\n",
    "\n",
    "\n",
    "linear_models.append(('lr',lr))\n",
    "linear_models.append(('knn',knn))\n",
    "non_linear_models.append(('rf',rf))\n",
    "non_linear_models.append(('rf_boost',rf_boost))\n",
    "non_linear_models.append(('gboost',gboost))\n",
    "\n",
    "count=0\n",
    "output_result=pd.DataFrame(columns=['Description','rmse'])\n",
    "\n",
    "\n",
    "results=[]\n",
    "names=[]\n",
    "\n",
    "for name,algo in linear_models:\n",
    "    kfold=KFold(n_splits=10)\n",
    "    pipe=Pipeline(steps=[('scaler', StandardScaler()),('regressor', algo)])\n",
    "    cv_results=cross_val_score(pipe,x,y,cv=kfold,scoring='neg_root_mean_squared_error')\n",
    "    results.append(cv_results)\n",
    "    names.append(name)\n",
    "    print(\"%s:%f (%f)\" % (name,np.mean(cv_results),np.var(cv_results,ddof=1)))\n",
    "    output_result=pd.concat([output_result,pd.DataFrame({\"Description\":name,'rmse':np.mean(cv_results)},index=[count])],axis=0)   \n",
    "\n",
    "for name,algo in non_linear_models:\n",
    "    kfold=KFold(shuffle=True,n_splits=10,random_state=1)\n",
    "    cv_results=cross_val_score(algo,x,y,cv=kfold,scoring='neg_root_mean_squared_error') \n",
    "    results.append(cv_results)\n",
    "    names.append(name)\n",
    "    print(\"%s:%f (%f)\" % (name,np.mean(cv_results),np.var(cv_results,ddof=1)))  ##we have 10 auc scores. we are taking its average.\n",
    "    output_result=pd.concat([output_result,pd.DataFrame({\"Description\":name,'rmse':np.mean(cv_results)},index=[count])],axis=0)\n",
    "    \n",
    "    \n",
    "#boxplot algorithm comparison\n",
    "fig=plt.figure()\n",
    "fig.suptitle('algorithm comparison')\n",
    "ax=fig.add_subplot(111)\n",
    "plt.boxplot(results)\n",
    "plt.show()\n",
    "\n",
    "print(output_result)"
   ]
  },
  {
   "cell_type": "code",
   "execution_count": 154,
   "metadata": {},
   "outputs": [],
   "source": [
    "from sklearn.linear_model import LinearRegression,Lasso,Ridge,ElasticNet\n",
    "ridge=Ridge()"
   ]
  },
  {
   "cell_type": "code",
   "execution_count": 155,
   "metadata": {},
   "outputs": [],
   "source": [
    "r_params={'alpha':np.arange(0.01,10,0.01)}"
   ]
  },
  {
   "cell_type": "code",
   "execution_count": 156,
   "metadata": {},
   "outputs": [
    {
     "data": {
      "text/plain": [
       "{'alpha': 9.99}"
      ]
     },
     "execution_count": 156,
     "metadata": {},
     "output_type": "execute_result"
    }
   ],
   "source": [
    "from sklearn.model_selection import GridSearchCV\n",
    "gs_ridge=GridSearchCV(ridge,param_grid=r_params)\n",
    "gs_ridge.fit(x,y)\n",
    "gs_ridge.best_params_"
   ]
  },
  {
   "cell_type": "code",
   "execution_count": 157,
   "metadata": {},
   "outputs": [
    {
     "data": {
      "text/plain": [
       "Ridge(alpha=9.99)"
      ]
     },
     "execution_count": 157,
     "metadata": {},
     "output_type": "execute_result"
    }
   ],
   "source": [
    "ridge=Ridge(**gs_ridge.best_params_)\n",
    "ridge.fit(x,y)"
   ]
  },
  {
   "cell_type": "code",
   "execution_count": 158,
   "metadata": {},
   "outputs": [
    {
     "data": {
      "text/plain": [
       "Ridge(alpha=9.99)"
      ]
     },
     "execution_count": 158,
     "metadata": {},
     "output_type": "execute_result"
    }
   ],
   "source": [
    "Ridge(alpha=9.99, copy_X=True, fit_intercept=True, max_iter=None,\n",
    "      normalize=False, random_state=None, solver='auto', tol=0.001)\n"
   ]
  },
  {
   "cell_type": "code",
   "execution_count": 159,
   "metadata": {},
   "outputs": [],
   "source": [
    "y_pred=ridge.predict(x_test)"
   ]
  },
  {
   "cell_type": "code",
   "execution_count": 169,
   "metadata": {},
   "outputs": [],
   "source": [
    "r1=df_test['Employee_ID']\n",
    "r2=pd.DataFrame(y_pred,columns=['Attrition_rate'])\n"
   ]
  },
  {
   "cell_type": "code",
   "execution_count": 164,
   "metadata": {},
   "outputs": [
    {
     "data": {
      "text/plain": [
       "0       EID_22713\n",
       "1        EID_9658\n",
       "2       EID_22203\n",
       "3        EID_7652\n",
       "4        EID_6516\n",
       "          ...    \n",
       "2995    EID_22547\n",
       "2996    EID_10066\n",
       "2997     EID_7126\n",
       "2998     EID_4929\n",
       "2999    EID_24750\n",
       "Name: Employee_ID, Length: 3000, dtype: object"
      ]
     },
     "execution_count": 164,
     "metadata": {},
     "output_type": "execute_result"
    }
   ],
   "source": [
    "r1"
   ]
  },
  {
   "cell_type": "code",
   "execution_count": 165,
   "metadata": {},
   "outputs": [
    {
     "data": {
      "text/html": [
       "<div>\n",
       "<style scoped>\n",
       "    .dataframe tbody tr th:only-of-type {\n",
       "        vertical-align: middle;\n",
       "    }\n",
       "\n",
       "    .dataframe tbody tr th {\n",
       "        vertical-align: top;\n",
       "    }\n",
       "\n",
       "    .dataframe thead th {\n",
       "        text-align: right;\n",
       "    }\n",
       "</style>\n",
       "<table border=\"1\" class=\"dataframe\">\n",
       "  <thead>\n",
       "    <tr style=\"text-align: right;\">\n",
       "      <th></th>\n",
       "      <th>Attrition_rate</th>\n",
       "    </tr>\n",
       "  </thead>\n",
       "  <tbody>\n",
       "    <tr>\n",
       "      <th>0</th>\n",
       "      <td>0.227458</td>\n",
       "    </tr>\n",
       "    <tr>\n",
       "      <th>1</th>\n",
       "      <td>0.210223</td>\n",
       "    </tr>\n",
       "    <tr>\n",
       "      <th>2</th>\n",
       "      <td>0.182475</td>\n",
       "    </tr>\n",
       "    <tr>\n",
       "      <th>3</th>\n",
       "      <td>0.215168</td>\n",
       "    </tr>\n",
       "    <tr>\n",
       "      <th>4</th>\n",
       "      <td>0.185152</td>\n",
       "    </tr>\n",
       "    <tr>\n",
       "      <th>...</th>\n",
       "      <td>...</td>\n",
       "    </tr>\n",
       "    <tr>\n",
       "      <th>2995</th>\n",
       "      <td>0.208631</td>\n",
       "    </tr>\n",
       "    <tr>\n",
       "      <th>2996</th>\n",
       "      <td>0.187551</td>\n",
       "    </tr>\n",
       "    <tr>\n",
       "      <th>2997</th>\n",
       "      <td>0.168172</td>\n",
       "    </tr>\n",
       "    <tr>\n",
       "      <th>2998</th>\n",
       "      <td>0.181249</td>\n",
       "    </tr>\n",
       "    <tr>\n",
       "      <th>2999</th>\n",
       "      <td>0.186031</td>\n",
       "    </tr>\n",
       "  </tbody>\n",
       "</table>\n",
       "<p>3000 rows × 1 columns</p>\n",
       "</div>"
      ],
      "text/plain": [
       "      Attrition_rate\n",
       "0           0.227458\n",
       "1           0.210223\n",
       "2           0.182475\n",
       "3           0.215168\n",
       "4           0.185152\n",
       "...              ...\n",
       "2995        0.208631\n",
       "2996        0.187551\n",
       "2997        0.168172\n",
       "2998        0.181249\n",
       "2999        0.186031\n",
       "\n",
       "[3000 rows x 1 columns]"
      ]
     },
     "execution_count": 165,
     "metadata": {},
     "output_type": "execute_result"
    }
   ],
   "source": [
    "r2"
   ]
  },
  {
   "cell_type": "code",
   "execution_count": 170,
   "metadata": {},
   "outputs": [],
   "source": [
    "result=pd.concat([r1,r2],axis=1)"
   ]
  },
  {
   "cell_type": "code",
   "execution_count": 171,
   "metadata": {},
   "outputs": [
    {
     "data": {
      "text/html": [
       "<div>\n",
       "<style scoped>\n",
       "    .dataframe tbody tr th:only-of-type {\n",
       "        vertical-align: middle;\n",
       "    }\n",
       "\n",
       "    .dataframe tbody tr th {\n",
       "        vertical-align: top;\n",
       "    }\n",
       "\n",
       "    .dataframe thead th {\n",
       "        text-align: right;\n",
       "    }\n",
       "</style>\n",
       "<table border=\"1\" class=\"dataframe\">\n",
       "  <thead>\n",
       "    <tr style=\"text-align: right;\">\n",
       "      <th></th>\n",
       "      <th>Employee_ID</th>\n",
       "      <th>Attrition_rate</th>\n",
       "    </tr>\n",
       "  </thead>\n",
       "  <tbody>\n",
       "    <tr>\n",
       "      <th>0</th>\n",
       "      <td>EID_22713</td>\n",
       "      <td>0.227458</td>\n",
       "    </tr>\n",
       "    <tr>\n",
       "      <th>1</th>\n",
       "      <td>EID_9658</td>\n",
       "      <td>0.210223</td>\n",
       "    </tr>\n",
       "    <tr>\n",
       "      <th>2</th>\n",
       "      <td>EID_22203</td>\n",
       "      <td>0.182475</td>\n",
       "    </tr>\n",
       "    <tr>\n",
       "      <th>3</th>\n",
       "      <td>EID_7652</td>\n",
       "      <td>0.215168</td>\n",
       "    </tr>\n",
       "    <tr>\n",
       "      <th>4</th>\n",
       "      <td>EID_6516</td>\n",
       "      <td>0.185152</td>\n",
       "    </tr>\n",
       "    <tr>\n",
       "      <th>...</th>\n",
       "      <td>...</td>\n",
       "      <td>...</td>\n",
       "    </tr>\n",
       "    <tr>\n",
       "      <th>2995</th>\n",
       "      <td>EID_22547</td>\n",
       "      <td>0.208631</td>\n",
       "    </tr>\n",
       "    <tr>\n",
       "      <th>2996</th>\n",
       "      <td>EID_10066</td>\n",
       "      <td>0.187551</td>\n",
       "    </tr>\n",
       "    <tr>\n",
       "      <th>2997</th>\n",
       "      <td>EID_7126</td>\n",
       "      <td>0.168172</td>\n",
       "    </tr>\n",
       "    <tr>\n",
       "      <th>2998</th>\n",
       "      <td>EID_4929</td>\n",
       "      <td>0.181249</td>\n",
       "    </tr>\n",
       "    <tr>\n",
       "      <th>2999</th>\n",
       "      <td>EID_24750</td>\n",
       "      <td>0.186031</td>\n",
       "    </tr>\n",
       "  </tbody>\n",
       "</table>\n",
       "<p>3000 rows × 2 columns</p>\n",
       "</div>"
      ],
      "text/plain": [
       "     Employee_ID  Attrition_rate\n",
       "0      EID_22713        0.227458\n",
       "1       EID_9658        0.210223\n",
       "2      EID_22203        0.182475\n",
       "3       EID_7652        0.215168\n",
       "4       EID_6516        0.185152\n",
       "...          ...             ...\n",
       "2995   EID_22547        0.208631\n",
       "2996   EID_10066        0.187551\n",
       "2997    EID_7126        0.168172\n",
       "2998    EID_4929        0.181249\n",
       "2999   EID_24750        0.186031\n",
       "\n",
       "[3000 rows x 2 columns]"
      ]
     },
     "execution_count": 171,
     "metadata": {},
     "output_type": "execute_result"
    }
   ],
   "source": [
    "result"
   ]
  },
  {
   "cell_type": "code",
   "execution_count": 172,
   "metadata": {},
   "outputs": [],
   "source": [
    "result.to_csv('submission_v2.csv',index=False)"
   ]
  },
  {
   "cell_type": "code",
   "execution_count": 177,
   "metadata": {},
   "outputs": [],
   "source": [
    "gboost=GradientBoostingRegressor(n_estimators=3)\n",
    "gboost.fit(x,y)\n",
    "y_pred=gboost.predict(x_test)"
   ]
  },
  {
   "cell_type": "code",
   "execution_count": 178,
   "metadata": {},
   "outputs": [],
   "source": [
    "param_test1 = {'n_estimators':range(20,81,10)}"
   ]
  },
  {
   "cell_type": "code",
   "execution_count": 179,
   "metadata": {},
   "outputs": [
    {
     "data": {
      "text/plain": [
       "{'n_estimators': 20}"
      ]
     },
     "execution_count": 179,
     "metadata": {},
     "output_type": "execute_result"
    }
   ],
   "source": [
    "from sklearn.model_selection import GridSearchCV\n",
    "gs_gboost=GridSearchCV(gboost,param_grid=param_test1)\n",
    "gs_gboost.fit(x,y)\n",
    "gs_gboost.best_params_"
   ]
  },
  {
   "cell_type": "code",
   "execution_count": 180,
   "metadata": {},
   "outputs": [
    {
     "data": {
      "text/plain": [
       "-0.005795685920335946"
      ]
     },
     "execution_count": 180,
     "metadata": {},
     "output_type": "execute_result"
    }
   ],
   "source": [
    "gs_gboost.best_score_"
   ]
  },
  {
   "cell_type": "code",
   "execution_count": 181,
   "metadata": {},
   "outputs": [],
   "source": [
    "param_test2 = {'max_depth':range(5,16,2), 'min_samples_split':range(200,1001,200)}"
   ]
  },
  {
   "cell_type": "code",
   "execution_count": 182,
   "metadata": {},
   "outputs": [
    {
     "data": {
      "text/plain": [
       "{'max_depth': 7, 'min_samples_split': 1000}"
      ]
     },
     "execution_count": 182,
     "metadata": {},
     "output_type": "execute_result"
    }
   ],
   "source": [
    "gs_gboost=GridSearchCV(gboost,param_grid=param_test2)\n",
    "gs_gboost.fit(x,y)\n",
    "gs_gboost.best_params_"
   ]
  },
  {
   "cell_type": "code",
   "execution_count": 183,
   "metadata": {},
   "outputs": [
    {
     "data": {
      "text/plain": [
       "-0.001430105929455383"
      ]
     },
     "execution_count": 183,
     "metadata": {},
     "output_type": "execute_result"
    }
   ],
   "source": [
    "gs_gboost.best_score_"
   ]
  },
  {
   "cell_type": "code",
   "execution_count": 184,
   "metadata": {},
   "outputs": [
    {
     "data": {
      "text/plain": [
       "{'min_samples_leaf': 60, 'min_samples_split': 2000}"
      ]
     },
     "execution_count": 184,
     "metadata": {},
     "output_type": "execute_result"
    }
   ],
   "source": [
    "param_test3 = {'min_samples_split':range(1000,2100,200), 'min_samples_leaf':range(30,71,10)}\n",
    "from sklearn.model_selection import GridSearchCV\n",
    "gs_gboost=GridSearchCV(gboost,param_grid=param_test3)\n",
    "gs_gboost.fit(x,y)\n",
    "gs_gboost.best_params_"
   ]
  },
  {
   "cell_type": "code",
   "execution_count": 185,
   "metadata": {},
   "outputs": [
    {
     "data": {
      "text/plain": [
       "-0.002039745424458972"
      ]
     },
     "execution_count": 185,
     "metadata": {},
     "output_type": "execute_result"
    }
   ],
   "source": [
    "gs_gboost.best_score_"
   ]
  },
  {
   "cell_type": "code",
   "execution_count": 186,
   "metadata": {},
   "outputs": [
    {
     "data": {
      "text/plain": [
       "{'max_features': 9}"
      ]
     },
     "execution_count": 186,
     "metadata": {},
     "output_type": "execute_result"
    }
   ],
   "source": [
    "param_test4 = {'max_features':range(7,20,2)}\n",
    "gs_gboost=GridSearchCV(gboost,param_grid=param_test4)\n",
    "gs_gboost.fit(x,y)\n",
    "gs_gboost.best_params_"
   ]
  },
  {
   "cell_type": "code",
   "execution_count": 187,
   "metadata": {},
   "outputs": [
    {
     "data": {
      "text/plain": [
       "-0.0014884462547862798"
      ]
     },
     "execution_count": 187,
     "metadata": {},
     "output_type": "execute_result"
    }
   ],
   "source": [
    "gs_gboost.best_score_"
   ]
  },
  {
   "cell_type": "code",
   "execution_count": 188,
   "metadata": {},
   "outputs": [
    {
     "data": {
      "text/plain": [
       "{'subsample': 0.7}"
      ]
     },
     "execution_count": 188,
     "metadata": {},
     "output_type": "execute_result"
    }
   ],
   "source": [
    "param_test5 = {'subsample':[0.6,0.7,0.75,0.8,0.85,0.9]}\n",
    "gs_gboost=GridSearchCV(gboost,param_grid=param_test5)\n",
    "gs_gboost.fit(x,y)\n",
    "gs_gboost.best_params_"
   ]
  },
  {
   "cell_type": "code",
   "execution_count": 189,
   "metadata": {},
   "outputs": [
    {
     "data": {
      "text/plain": [
       "-0.001777641605604252"
      ]
     },
     "execution_count": 189,
     "metadata": {},
     "output_type": "execute_result"
    }
   ],
   "source": [
    "gs_gboost.best_score_"
   ]
  },
  {
   "cell_type": "code",
   "execution_count": 192,
   "metadata": {},
   "outputs": [],
   "source": [
    "gboost=GradientBoostingRegressor(n_estimators = 20,subsample=  0.7 ,max_features=9 ,max_depth = 7, min_samples_split = 1000)\n",
    "gboost.fit(x,y)\n",
    "y_pred=gboost.predict(x_test)"
   ]
  },
  {
   "cell_type": "code",
   "execution_count": 193,
   "metadata": {},
   "outputs": [],
   "source": [
    "r1=df_test['Employee_ID']\n",
    "r2=pd.DataFrame(y_pred,columns=['Attrition_rate'])\n",
    "result=pd.concat([r1,r2],axis=1)"
   ]
  },
  {
   "cell_type": "code",
   "execution_count": 195,
   "metadata": {},
   "outputs": [],
   "source": [
    "result.to_csv('submission_v3.csv',index=False)"
   ]
  },
  {
   "cell_type": "code",
   "execution_count": 196,
   "metadata": {},
   "outputs": [],
   "source": [
    "gb = GradientBoostingRegressor(alpha=0.9, ccp_alpha=0.0, criterion='friedman_mse',\n",
    "                          init=None, learning_rate=0.1, loss='ls', max_depth=3,\n",
    "                          max_features=None, max_leaf_nodes=None,\n",
    "                          min_impurity_decrease=0.0, min_impurity_split=None,\n",
    "                          min_samples_leaf=1, min_samples_split=2,\n",
    "                          min_weight_fraction_leaf=0.0, n_estimators=3,\n",
    "                          n_iter_no_change=None, presort='deprecated',\n",
    "                          random_state=None, subsample=1.0, tol=0.0001,\n",
    "                          validation_fraction=0.1, verbose=0, warm_start=False)"
   ]
  },
  {
   "cell_type": "code",
   "execution_count": 197,
   "metadata": {},
   "outputs": [],
   "source": [
    "gb.fit(x,y)\n",
    "y_pred=gboost.predict(x_test)"
   ]
  },
  {
   "cell_type": "code",
   "execution_count": 198,
   "metadata": {},
   "outputs": [],
   "source": [
    "r1=df_test['Employee_ID']\n",
    "r2=pd.DataFrame(y_pred,columns=['Attrition_rate'])\n",
    "result=pd.concat([r1,r2],axis=1)"
   ]
  },
  {
   "cell_type": "code",
   "execution_count": 199,
   "metadata": {},
   "outputs": [],
   "source": [
    "result.to_csv('submission_v4.csv',index=False)"
   ]
  },
  {
   "cell_type": "code",
   "execution_count": 200,
   "metadata": {},
   "outputs": [
    {
     "name": "stdout",
     "output_type": "stream",
     "text": [
      "lr:-0.186288 (0.000091)\n",
      "gboost:-0.187218 (0.000136)\n"
     ]
    },
    {
     "data": {
      "image/png": "[encoded data removed]",
      "text/plain": [
       "<Figure size 432x288 with 1 Axes>"
      ]
     },
     "metadata": {
      "needs_background": "light"
     },
     "output_type": "display_data"
    },
    {
     "name": "stdout",
     "output_type": "stream",
     "text": [
      "  Description      rmse\n",
      "0          lr -0.186288\n",
      "0      gboost -0.187218\n"
     ]
    }
   ],
   "source": [
    "from sklearn.linear_model import LinearRegression\n",
    "from sklearn.ensemble import GradientBoostingRegressor\n",
    "\n",
    "\n",
    "non_linear_models=[]\n",
    "linear_models=[]\n",
    "\n",
    "\n",
    "lr=LinearRegression()\n",
    "gboost=GradientBoostingRegressor()\n",
    "\n",
    "\n",
    "linear_models.append(('lr',lr))\n",
    "non_linear_models.append(('gboost',gboost))\n",
    "\n",
    "count=0\n",
    "output_result=pd.DataFrame(columns=['Description','rmse'])\n",
    "\n",
    "\n",
    "results=[]\n",
    "names=[]\n",
    "\n",
    "for name,algo in linear_models:\n",
    "    kfold=KFold(n_splits=10)\n",
    "    pipe=Pipeline(steps=[('scaler', StandardScaler()),('regressor', algo)])\n",
    "    cv_results=cross_val_score(pipe,x,y,cv=kfold,scoring='neg_root_mean_squared_error')\n",
    "    results.append(cv_results)\n",
    "    names.append(name)\n",
    "    print(\"%s:%f (%f)\" % (name,np.mean(cv_results),np.var(cv_results,ddof=1)))\n",
    "    output_result=pd.concat([output_result,pd.DataFrame({\"Description\":name,'rmse':np.mean(cv_results)},index=[count])],axis=0)   \n",
    "\n",
    "for name,algo in non_linear_models:\n",
    "    kfold=KFold(shuffle=True,n_splits=10,random_state=1)\n",
    "    cv_results=cross_val_score(algo,x,y,cv=kfold,scoring='neg_root_mean_squared_error') \n",
    "    results.append(cv_results)\n",
    "    names.append(name)\n",
    "    print(\"%s:%f (%f)\" % (name,np.mean(cv_results),np.var(cv_results,ddof=1)))  ##we have 10 auc scores. we are taking its average.\n",
    "    output_result=pd.concat([output_result,pd.DataFrame({\"Description\":name,'rmse':np.mean(cv_results)},index=[count])],axis=0)\n",
    "    \n",
    "    \n",
    "#boxplot algorithm comparison\n",
    "fig=plt.figure()\n",
    "fig.suptitle('algorithm comparison')\n",
    "ax=fig.add_subplot(111)\n",
    "plt.boxplot(results)\n",
    "plt.show()\n",
    "\n",
    "print(output_result)"
   ]
  },
  {
   "cell_type": "code",
   "execution_count": 208,
   "metadata": {},
   "outputs": [],
   "source": [
    "gboost.fit(x,y)\n",
    "y_pred=gboost.predict(x_test)\n",
    "r1=df_test['Employee_ID']\n",
    "r2=pd.DataFrame(y_pred,columns=['Attrition_rate'])\n",
    "result=pd.concat([r1,r2],axis=1)"
   ]
  },
  {
   "cell_type": "code",
   "execution_count": 209,
   "metadata": {},
   "outputs": [],
   "source": [
    "result.to_csv('submission_v5.csv',index=False)"
   ]
  },
  {
   "cell_type": "code",
   "execution_count": 204,
   "metadata": {},
   "outputs": [
    {
     "name": "stdout",
     "output_type": "stream",
     "text": [
      "lr:-0.186288 (0.000091)\n",
      "knn:-0.200649 (0.000098)\n",
      "rf:-0.189713 (0.000117)\n",
      "rf_boost:-0.197394 (0.000062)\n",
      "gboost:-0.187222 (0.000137)\n"
     ]
    },
    {
     "data": {
      "image/png": "[encoded data removed]",
      "text/plain": [
       "<Figure size 432x288 with 1 Axes>"
      ]
     },
     "metadata": {
      "needs_background": "light"
     },
     "output_type": "display_data"
    },
    {
     "name": "stdout",
     "output_type": "stream",
     "text": [
      "  Description      rmse\n",
      "0          lr -0.186288\n",
      "0         knn -0.200649\n",
      "0          rf -0.189713\n",
      "0    rf_boost -0.197394\n",
      "0      gboost -0.187222\n"
     ]
    }
   ],
   "source": [
    "from sklearn.linear_model import LinearRegression\n",
    "from sklearn.neighbors import KNeighborsRegressor\n",
    "from sklearn.ensemble import RandomForestRegressor\n",
    "from sklearn.ensemble import AdaBoostRegressor\n",
    "from sklearn.ensemble import GradientBoostingRegressor\n",
    "from sklearn.model_selection import KFold\n",
    "\n",
    "\n",
    "non_linear_models=[]\n",
    "linear_models=[]\n",
    "\n",
    "\n",
    "lr=LinearRegression()\n",
    "knn=KNeighborsRegressor()\n",
    "rf=RandomForestRegressor()\n",
    "rf_boost=AdaBoostRegressor()\n",
    "gboost=GradientBoostingRegressor()\n",
    "\n",
    "\n",
    "linear_models.append(('lr',lr))\n",
    "linear_models.append(('knn',knn))\n",
    "non_linear_models.append(('rf',rf))\n",
    "non_linear_models.append(('rf_boost',rf_boost))\n",
    "non_linear_models.append(('gboost',gboost))\n",
    "\n",
    "count=0\n",
    "output_result=pd.DataFrame(columns=['Description','rmse'])\n",
    "\n",
    "\n",
    "results=[]\n",
    "names=[]\n",
    "\n",
    "for name,algo in linear_models:\n",
    "    kfold=KFold(n_splits=10)\n",
    "    pipe=Pipeline(steps=[('scaler', StandardScaler()),('regressor', algo)])\n",
    "    cv_results=cross_val_score(pipe,x,y,cv=kfold,scoring='neg_root_mean_squared_error')\n",
    "    results.append(cv_results)\n",
    "    names.append(name)\n",
    "    print(\"%s:%f (%f)\" % (name,np.mean(cv_results),np.var(cv_results,ddof=1)))\n",
    "    output_result=pd.concat([output_result,pd.DataFrame({\"Description\":name,'rmse':np.mean(cv_results)},index=[count])],axis=0)   \n",
    "\n",
    "for name,algo in non_linear_models:\n",
    "    kfold=KFold(shuffle=True,n_splits=10,random_state=1)\n",
    "    cv_results=cross_val_score(algo,x,y,cv=kfold,scoring='neg_root_mean_squared_error') \n",
    "    results.append(cv_results)\n",
    "    names.append(name)\n",
    "    print(\"%s:%f (%f)\" % (name,np.mean(cv_results),np.var(cv_results,ddof=1)))  ##we have 10 auc scores. we are taking its average.\n",
    "    output_result=pd.concat([output_result,pd.DataFrame({\"Description\":name,'rmse':np.mean(cv_results)},index=[count])],axis=0)\n",
    "    \n",
    "    \n",
    "#boxplot algorithm comparison\n",
    "fig=plt.figure()\n",
    "fig.suptitle('algorithm comparison')\n",
    "ax=fig.add_subplot(111)\n",
    "plt.boxplot(results)\n",
    "plt.show()\n",
    "\n",
    "print(output_result)"
   ]
  },
  {
   "cell_type": "code",
   "execution_count": 205,
   "metadata": {},
   "outputs": [],
   "source": [
    "gboost .fit(x,y)\n",
    "y_pred=rf.predict(x_test)\n",
    "r1=df_test['Employee_ID']\n",
    "r2=pd.DataFrame(y_pred,columns=['Attrition_rate'])\n",
    "result=pd.concat([r1,r2],axis=1)"
   ]
  },
  {
   "cell_type": "code",
   "execution_count": 206,
   "metadata": {},
   "outputs": [],
   "source": [
    "result.to_csv('submission_v6.csv',index=False)"
   ]
  },
  {
   "cell_type": "code",
   "execution_count": 210,
   "metadata": {},
   "outputs": [],
   "source": [
    "from sklearn import preprocessing"
   ]
  },
  {
   "cell_type": "code",
   "execution_count": 219,
   "metadata": {},
   "outputs": [],
   "source": [
    "standardized_X = preprocessing.scale(X)\n",
    "standardized_X_test = preprocessing.scale(x_test)"
   ]
  },
  {
   "cell_type": "code",
   "execution_count": 220,
   "metadata": {},
   "outputs": [],
   "source": [
    "gb = GradientBoostingRegressor(alpha=0.9, ccp_alpha=0.0, criterion='friedman_mse',\n",
    "                          init=None, learning_rate=0.1, loss='ls', max_depth=3,\n",
    "                          max_features=None, max_leaf_nodes=None,\n",
    "                          min_impurity_decrease=0.0, min_impurity_split=None,\n",
    "                          min_samples_leaf=1, min_samples_split=2,\n",
    "                          min_weight_fraction_leaf=0.0, n_estimators=3,\n",
    "                          n_iter_no_change=None, presort='deprecated',\n",
    "                          random_state=None, subsample=1.0, tol=0.0001,\n",
    "                          validation_fraction=0.1, verbose=0, warm_start=False)"
   ]
  },
  {
   "cell_type": "code",
   "execution_count": 221,
   "metadata": {},
   "outputs": [],
   "source": [
    "gb.fit(standardized_X,y)\n",
    "y_pred=gboost.predict(standardized_X_test)"
   ]
  },
  {
   "cell_type": "code",
   "execution_count": 222,
   "metadata": {},
   "outputs": [],
   "source": [
    "r1=df_test['Employee_ID']\n",
    "r2=pd.DataFrame(y_pred,columns=['Attrition_rate'])\n",
    "result=pd.concat([r1,r2],axis=1)"
   ]
  },
  {
   "cell_type": "code",
   "execution_count": 223,
   "metadata": {},
   "outputs": [],
   "source": [
    "result.to_csv('submission_vnorm.csv',index=False)"
   ]
  },
  {
   "cell_type": "code",
   "execution_count": 224,
   "metadata": {},
   "outputs": [
    {
     "ename": "ModuleNotFoundError",
     "evalue": "No module named 'xgboost'",
     "output_type": "error",
     "traceback": [
      "\u001b[1;31m---------------------------------------------------------------------------\u001b[0m",
      "\u001b[1;31mModuleNotFoundError\u001b[0m                       Traceback (most recent call last)",
      "\u001b[1;32m<ipython-input-224-5943d1bfe3f1>\u001b[0m in \u001b[0;36m<module>\u001b[1;34m\u001b[0m\n\u001b[1;32m----> 1\u001b[1;33m \u001b[1;32mimport\u001b[0m \u001b[0mxgboost\u001b[0m \u001b[1;32mas\u001b[0m \u001b[0mxgb\u001b[0m\u001b[1;33m\u001b[0m\u001b[1;33m\u001b[0m\u001b[0m\n\u001b[0m",
      "\u001b[1;31mModuleNotFoundError\u001b[0m: No module named 'xgboost'"
     ]
    }
   ],
   "source": [
    "import xgboost as xgb"
   ]
  },
  {
   "cell_type": "code",
   "execution_count": null,
   "metadata": {},
   "outputs": [],
   "source": []
  }
 ],
 "metadata": {
  "kernelspec": {
   "display_name": "Python 3",
   "language": "python",
   "name": "python3"
  },
  "language_info": {
   "codemirror_mode": {
    "name": "ipython",
    "version": 3
   },
   "file_extension": ".py",
   "mimetype": "text/x-python",
   "name": "python",
   "nbconvert_exporter": "python",
   "pygments_lexer": "ipython3",
   "version": "3.7.3"
  }
 },
 "nbformat": 4,
 "nbformat_minor": 4
}
